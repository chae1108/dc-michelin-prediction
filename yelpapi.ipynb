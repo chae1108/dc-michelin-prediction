{
 "cells": [
  {
   "cell_type": "code",
   "execution_count": 3,
   "metadata": {
    "collapsed": false
   },
   "outputs": [],
   "source": [
    "from yelp.client import Client\n",
    "from yelp.oauth1_authenticator import Oauth1Authenticator\n",
    "\n",
    "auth = Oauth1Authenticator(\n",
    "    consumer_key='6DbR8hdRlcmgIH5cPdWpUQ',\n",
    "    consumer_secret='JD8nt16nfNrmy4FBD9AtC1Ds2Jk',\n",
    "    token='FDPgWbTKqnOiUo60ntrGW9MRVbQmbUg8',\n",
    "    token_secret='DUf7Hqq0Thwrom_G17r4_j2ObSk'\n",
    ")\n",
    "\n",
    "client = Client(auth)"
   ]
  },
  {
   "cell_type": "code",
   "execution_count": 36,
   "metadata": {
    "collapsed": false
   },
   "outputs": [],
   "source": [
    "params = {\n",
    "    'term': 'restaurants'\n",
    "}\n",
    "\n",
    "response = client.get_business('minibar-by-jose-andres-washington-7')"
   ]
  },
  {
   "cell_type": "code",
   "execution_count": 42,
   "metadata": {
    "collapsed": false
   },
   "outputs": [
    {
     "name": "stdout",
     "output_type": "stream",
     "text": [
      "minibar by José Andrés\n",
      "251\n",
      "[Category(name=u'American (New)', alias=u'newamerican'), Category(name=u'Cocktail Bars', alias=u'cocktailbars')]\n",
      "4.5\n",
      "It was a very unique and amazing dining experience at Minibar. They prep each course right in front of you. Foods were fun, beautiful and delicious. I am...\n",
      "<yelp.obj.location.Location object at 0x0000000004442EF0>\n"
     ]
    },
    {
     "ename": "AttributeError",
     "evalue": "'list' object has no attribute 'user'",
     "output_type": "error",
     "traceback": [
      "\u001b[1;31m---------------------------------------------------------------------------\u001b[0m",
      "\u001b[1;31mAttributeError\u001b[0m                            Traceback (most recent call last)",
      "\u001b[1;32m<ipython-input-42-2283540497d4>\u001b[0m in \u001b[0;36m<module>\u001b[1;34m()\u001b[0m\n\u001b[0;32m      5\u001b[0m \u001b[1;32mprint\u001b[0m \u001b[0mresponse\u001b[0m\u001b[1;33m.\u001b[0m\u001b[0mbusiness\u001b[0m\u001b[1;33m.\u001b[0m\u001b[0msnippet_text\u001b[0m\u001b[1;33m\u001b[0m\u001b[0m\n\u001b[0;32m      6\u001b[0m \u001b[1;32mprint\u001b[0m \u001b[0mresponse\u001b[0m\u001b[1;33m.\u001b[0m\u001b[0mbusiness\u001b[0m\u001b[1;33m.\u001b[0m\u001b[0mlocation\u001b[0m\u001b[1;33m\u001b[0m\u001b[0m\n\u001b[1;32m----> 7\u001b[1;33m \u001b[1;32mprint\u001b[0m \u001b[0mresponse\u001b[0m\u001b[1;33m.\u001b[0m\u001b[0mbusiness\u001b[0m\u001b[1;33m.\u001b[0m\u001b[0mreviews\u001b[0m\u001b[1;33m.\u001b[0m\u001b[0muser\u001b[0m\u001b[1;33m\u001b[0m\u001b[0m\n\u001b[0m",
      "\u001b[1;31mAttributeError\u001b[0m: 'list' object has no attribute 'user'"
     ]
    }
   ],
   "source": [
    "print response.business.name\n",
    "print response.business.review_count\n",
    "print response.business.categories\n",
    "print response.business.rating\n",
    "print response.business.snippet_text\n",
    "print response.business.location\n",
    "print response.business.reviews.user"
   ]
  },
  {
   "cell_type": "code",
   "execution_count": null,
   "metadata": {
    "collapsed": true
   },
   "outputs": [],
   "source": []
  }
 ],
 "metadata": {
  "kernelspec": {
   "display_name": "Python 2",
   "language": "python",
   "name": "python2"
  },
  "language_info": {
   "codemirror_mode": {
    "name": "ipython",
    "version": 2
   },
   "file_extension": ".py",
   "mimetype": "text/x-python",
   "name": "python",
   "nbconvert_exporter": "python",
   "pygments_lexer": "ipython2",
   "version": "2.7.11"
  }
 },
 "nbformat": 4,
 "nbformat_minor": 0
}
