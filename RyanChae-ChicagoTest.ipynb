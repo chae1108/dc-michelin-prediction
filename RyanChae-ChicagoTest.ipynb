{
 "cells": [
  {
   "cell_type": "code",
   "execution_count": 3,
   "metadata": {
    "collapsed": true
   },
   "outputs": [],
   "source": [
    "#this notebook uses Chicago as a test set and SF and NY as a training set\n",
    "import pandas as pd"
   ]
  },
  {
   "cell_type": "code",
   "execution_count": 4,
   "metadata": {
    "collapsed": false
   },
   "outputs": [
    {
     "data": {
      "text/html": [
       "<div>\n",
       "<table border=\"1\" class=\"dataframe\">\n",
       "  <thead>\n",
       "    <tr style=\"text-align: right;\">\n",
       "      <th></th>\n",
       "      <th>categories</th>\n",
       "      <th>city</th>\n",
       "      <th>id</th>\n",
       "      <th>name</th>\n",
       "      <th>price</th>\n",
       "      <th>rating</th>\n",
       "      <th>review_count</th>\n",
       "      <th>zip_code</th>\n",
       "    </tr>\n",
       "  </thead>\n",
       "  <tbody>\n",
       "    <tr>\n",
       "      <th>0</th>\n",
       "      <td>newamerican</td>\n",
       "      <td>Chicago</td>\n",
       "      <td>alinea-chicago</td>\n",
       "      <td>Alinea</td>\n",
       "      <td>$$$$</td>\n",
       "      <td>4.5</td>\n",
       "      <td>1542</td>\n",
       "      <td>60614</td>\n",
       "    </tr>\n",
       "    <tr>\n",
       "      <th>1</th>\n",
       "      <td>newamerican</td>\n",
       "      <td>Chicago</td>\n",
       "      <td>grace-chicago-3</td>\n",
       "      <td>Grace</td>\n",
       "      <td>$$$$</td>\n",
       "      <td>4.5</td>\n",
       "      <td>234</td>\n",
       "      <td>60661</td>\n",
       "    </tr>\n",
       "    <tr>\n",
       "      <th>2</th>\n",
       "      <td>newamerican</td>\n",
       "      <td>Chicago</td>\n",
       "      <td>42-grams-chicago</td>\n",
       "      <td>42 grams</td>\n",
       "      <td>$$$$</td>\n",
       "      <td>4.5</td>\n",
       "      <td>66</td>\n",
       "      <td>60640</td>\n",
       "    </tr>\n",
       "    <tr>\n",
       "      <th>3</th>\n",
       "      <td>newamerican</td>\n",
       "      <td>Chicago</td>\n",
       "      <td>acadia-chicago</td>\n",
       "      <td>Acadia</td>\n",
       "      <td>$$$$</td>\n",
       "      <td>4.0</td>\n",
       "      <td>334</td>\n",
       "      <td>60616</td>\n",
       "    </tr>\n",
       "    <tr>\n",
       "      <th>4</th>\n",
       "      <td>newamerican</td>\n",
       "      <td>Chicago</td>\n",
       "      <td>sixteen-chicago</td>\n",
       "      <td>Sixteen</td>\n",
       "      <td>$$$$</td>\n",
       "      <td>3.5</td>\n",
       "      <td>373</td>\n",
       "      <td>60611</td>\n",
       "    </tr>\n",
       "  </tbody>\n",
       "</table>\n",
       "</div>"
      ],
      "text/plain": [
       "    categories     city                id      name price  rating  \\\n",
       "0  newamerican  Chicago    alinea-chicago    Alinea  $$$$     4.5   \n",
       "1  newamerican  Chicago   grace-chicago-3     Grace  $$$$     4.5   \n",
       "2  newamerican  Chicago  42-grams-chicago  42 grams  $$$$     4.5   \n",
       "3  newamerican  Chicago    acadia-chicago    Acadia  $$$$     4.0   \n",
       "4  newamerican  Chicago   sixteen-chicago   Sixteen  $$$$     3.5   \n",
       "\n",
       "   review_count  zip_code  \n",
       "0          1542     60614  \n",
       "1           234     60661  \n",
       "2            66     60640  \n",
       "3           334     60616  \n",
       "4           373     60611  "
      ]
     },
     "execution_count": 4,
     "metadata": {},
     "output_type": "execute_result"
    }
   ],
   "source": [
    "msdf=pd.read_csv('michelin_star_restaurants2.csv')\n",
    "msdf.head()"
   ]
  },
  {
   "cell_type": "code",
   "execution_count": 5,
   "metadata": {
    "collapsed": false
   },
   "outputs": [],
   "source": [
    "nodf=pd.read_csv('no_star_restaurants2.csv')\n",
    "nodf.head()\n",
    "nodf=nodf[nodf.city!='Washington']"
   ]
  },
  {
   "cell_type": "code",
   "execution_count": 6,
   "metadata": {
    "collapsed": true
   },
   "outputs": [],
   "source": [
    "nodf['star']=0"
   ]
  },
  {
   "cell_type": "code",
   "execution_count": 7,
   "metadata": {
    "collapsed": false
   },
   "outputs": [
    {
     "data": {
      "text/html": [
       "<div>\n",
       "<table border=\"1\" class=\"dataframe\">\n",
       "  <thead>\n",
       "    <tr style=\"text-align: right;\">\n",
       "      <th></th>\n",
       "      <th>id</th>\n",
       "      <th>star</th>\n",
       "    </tr>\n",
       "  </thead>\n",
       "  <tbody>\n",
       "    <tr>\n",
       "      <th>0</th>\n",
       "      <td>alinea-chicago</td>\n",
       "      <td>3</td>\n",
       "    </tr>\n",
       "    <tr>\n",
       "      <th>1</th>\n",
       "      <td>grace-chicago-3</td>\n",
       "      <td>3</td>\n",
       "    </tr>\n",
       "    <tr>\n",
       "      <th>2</th>\n",
       "      <td>42-grams-chicago</td>\n",
       "      <td>2</td>\n",
       "    </tr>\n",
       "    <tr>\n",
       "      <th>3</th>\n",
       "      <td>acadia-chicago</td>\n",
       "      <td>2</td>\n",
       "    </tr>\n",
       "    <tr>\n",
       "      <th>4</th>\n",
       "      <td>sixteen-chicago</td>\n",
       "      <td>2</td>\n",
       "    </tr>\n",
       "  </tbody>\n",
       "</table>\n",
       "</div>"
      ],
      "text/plain": [
       "                 id  star\n",
       "0    alinea-chicago     3\n",
       "1   grace-chicago-3     3\n",
       "2  42-grams-chicago     2\n",
       "3    acadia-chicago     2\n",
       "4   sixteen-chicago     2"
      ]
     },
     "execution_count": 7,
     "metadata": {},
     "output_type": "execute_result"
    }
   ],
   "source": [
    "star=pd.read_csv('michelin_list2.csv')\n",
    "star.head()"
   ]
  },
  {
   "cell_type": "code",
   "execution_count": 8,
   "metadata": {
    "collapsed": true
   },
   "outputs": [],
   "source": [
    "result=pd.merge(msdf,star,how='left',on='id')"
   ]
  },
  {
   "cell_type": "code",
   "execution_count": 9,
   "metadata": {
    "collapsed": false
   },
   "outputs": [
    {
     "data": {
      "text/html": [
       "<div>\n",
       "<table border=\"1\" class=\"dataframe\">\n",
       "  <thead>\n",
       "    <tr style=\"text-align: right;\">\n",
       "      <th></th>\n",
       "      <th>categories</th>\n",
       "      <th>city</th>\n",
       "      <th>id</th>\n",
       "      <th>name</th>\n",
       "      <th>price</th>\n",
       "      <th>rating</th>\n",
       "      <th>review_count</th>\n",
       "      <th>zip_code</th>\n",
       "      <th>star</th>\n",
       "    </tr>\n",
       "  </thead>\n",
       "  <tbody>\n",
       "    <tr>\n",
       "      <th>43</th>\n",
       "      <td>modern_european</td>\n",
       "      <td>New York</td>\n",
       "      <td>bâtard-new-york</td>\n",
       "      <td>Bâtard</td>\n",
       "      <td>$$$$</td>\n",
       "      <td>4.0</td>\n",
       "      <td>172</td>\n",
       "      <td>10013</td>\n",
       "      <td>NaN</td>\n",
       "    </tr>\n",
       "    <tr>\n",
       "      <th>49</th>\n",
       "      <td>szechuan</td>\n",
       "      <td>New York</td>\n",
       "      <td>café-china-new-york-2</td>\n",
       "      <td>Café China</td>\n",
       "      <td>$$</td>\n",
       "      <td>3.5</td>\n",
       "      <td>655</td>\n",
       "      <td>10016</td>\n",
       "      <td>NaN</td>\n",
       "    </tr>\n",
       "    <tr>\n",
       "      <th>92</th>\n",
       "      <td>newamerican</td>\n",
       "      <td>Brooklyn</td>\n",
       "      <td>the-river-café-brooklyn-3</td>\n",
       "      <td>The River Café</td>\n",
       "      <td>$$$$</td>\n",
       "      <td>4.0</td>\n",
       "      <td>722</td>\n",
       "      <td>11201</td>\n",
       "      <td>NaN</td>\n",
       "    </tr>\n",
       "    <tr>\n",
       "      <th>96</th>\n",
       "      <td>german</td>\n",
       "      <td>New York</td>\n",
       "      <td>wallsé-new-york-2</td>\n",
       "      <td>Wallsé</td>\n",
       "      <td>$$$</td>\n",
       "      <td>4.0</td>\n",
       "      <td>195</td>\n",
       "      <td>10014</td>\n",
       "      <td>NaN</td>\n",
       "    </tr>\n",
       "    <tr>\n",
       "      <th>105</th>\n",
       "      <td>french</td>\n",
       "      <td>Palo Alto</td>\n",
       "      <td>baumé-palo-alto-5</td>\n",
       "      <td>Baumé</td>\n",
       "      <td>$$$$</td>\n",
       "      <td>4.0</td>\n",
       "      <td>306</td>\n",
       "      <td>94306</td>\n",
       "      <td>NaN</td>\n",
       "    </tr>\n",
       "    <tr>\n",
       "      <th>122</th>\n",
       "      <td>french</td>\n",
       "      <td>San Francisco</td>\n",
       "      <td>keiko-à-nob-hill-san-francisco-2</td>\n",
       "      <td>Keiko à Nob Hill</td>\n",
       "      <td>$$$$</td>\n",
       "      <td>4.5</td>\n",
       "      <td>312</td>\n",
       "      <td>94109</td>\n",
       "      <td>NaN</td>\n",
       "    </tr>\n",
       "  </tbody>\n",
       "</table>\n",
       "</div>"
      ],
      "text/plain": [
       "          categories           city                                id  \\\n",
       "43   modern_european       New York                   bâtard-new-york   \n",
       "49          szechuan       New York             café-china-new-york-2   \n",
       "92       newamerican       Brooklyn         the-river-café-brooklyn-3   \n",
       "96            german       New York                 wallsé-new-york-2   \n",
       "105           french      Palo Alto                 baumé-palo-alto-5   \n",
       "122           french  San Francisco  keiko-à-nob-hill-san-francisco-2   \n",
       "\n",
       "                 name price  rating  review_count  zip_code  star  \n",
       "43             Bâtard  $$$$     4.0           172     10013   NaN  \n",
       "49         Café China    $$     3.5           655     10016   NaN  \n",
       "92     The River Café  $$$$     4.0           722     11201   NaN  \n",
       "96             Wallsé   $$$     4.0           195     10014   NaN  \n",
       "105             Baumé  $$$$     4.0           306     94306   NaN  \n",
       "122  Keiko à Nob Hill  $$$$     4.5           312     94109   NaN  "
      ]
     },
     "execution_count": 9,
     "metadata": {},
     "output_type": "execute_result"
    }
   ],
   "source": [
    "result[result['star'].isnull()]"
   ]
  },
  {
   "cell_type": "code",
   "execution_count": 10,
   "metadata": {
    "collapsed": false
   },
   "outputs": [
    {
     "name": "stderr",
     "output_type": "stream",
     "text": [
      "C:\\Users\\Ouisu\\Anaconda2\\lib\\site-packages\\ipykernel\\__main__.py:2: SettingWithCopyWarning: \n",
      "A value is trying to be set on a copy of a slice from a DataFrame\n",
      "\n",
      "See the caveats in the documentation: http://pandas.pydata.org/pandas-docs/stable/indexing.html#indexing-view-versus-copy\n",
      "  from ipykernel import kernelapp as app\n",
      "C:\\Users\\Ouisu\\Anaconda2\\lib\\site-packages\\ipykernel\\__main__.py:3: SettingWithCopyWarning: \n",
      "A value is trying to be set on a copy of a slice from a DataFrame\n",
      "\n",
      "See the caveats in the documentation: http://pandas.pydata.org/pandas-docs/stable/indexing.html#indexing-view-versus-copy\n",
      "  app.launch_new_instance()\n",
      "C:\\Users\\Ouisu\\Anaconda2\\lib\\site-packages\\ipykernel\\__main__.py:4: SettingWithCopyWarning: \n",
      "A value is trying to be set on a copy of a slice from a DataFrame\n",
      "\n",
      "See the caveats in the documentation: http://pandas.pydata.org/pandas-docs/stable/indexing.html#indexing-view-versus-copy\n",
      "C:\\Users\\Ouisu\\Anaconda2\\lib\\site-packages\\ipykernel\\__main__.py:5: SettingWithCopyWarning: \n",
      "A value is trying to be set on a copy of a slice from a DataFrame\n",
      "\n",
      "See the caveats in the documentation: http://pandas.pydata.org/pandas-docs/stable/indexing.html#indexing-view-versus-copy\n",
      "C:\\Users\\Ouisu\\Anaconda2\\lib\\site-packages\\ipykernel\\__main__.py:6: SettingWithCopyWarning: \n",
      "A value is trying to be set on a copy of a slice from a DataFrame\n",
      "\n",
      "See the caveats in the documentation: http://pandas.pydata.org/pandas-docs/stable/indexing.html#indexing-view-versus-copy\n",
      "C:\\Users\\Ouisu\\Anaconda2\\lib\\site-packages\\ipykernel\\__main__.py:7: SettingWithCopyWarning: \n",
      "A value is trying to be set on a copy of a slice from a DataFrame\n",
      "\n",
      "See the caveats in the documentation: http://pandas.pydata.org/pandas-docs/stable/indexing.html#indexing-view-versus-copy\n"
     ]
    }
   ],
   "source": [
    "#manually inserting stars that didn't get in due to accents in characters\n",
    "result['star'][43]=1\n",
    "result['star'][49]=1\n",
    "result['star'][92]=1\n",
    "result['star'][96]=1\n",
    "result['star'][105]=2\n",
    "result['star'][122]=1"
   ]
  },
  {
   "cell_type": "code",
   "execution_count": 11,
   "metadata": {
    "collapsed": false
   },
   "outputs": [
    {
     "data": {
      "text/plain": [
       "(148, 9)"
      ]
     },
     "execution_count": 11,
     "metadata": {},
     "output_type": "execute_result"
    }
   ],
   "source": [
    "result.shape"
   ]
  },
  {
   "cell_type": "code",
   "execution_count": 12,
   "metadata": {
    "collapsed": false
   },
   "outputs": [],
   "source": [
    "trainer = result.append(nodf)"
   ]
  },
  {
   "cell_type": "code",
   "execution_count": 13,
   "metadata": {
    "collapsed": true
   },
   "outputs": [],
   "source": [
    "trainer.ix[trainer.price == '$$','price']=2\n",
    "trainer.ix[trainer.price == '$$$','price']=3\n",
    "trainer.ix[trainer.price == '$$$$','price']=4"
   ]
  },
  {
   "cell_type": "code",
   "execution_count": 14,
   "metadata": {
    "collapsed": false
   },
   "outputs": [
    {
     "data": {
      "text/plain": [
       "(271, 9)"
      ]
     },
     "execution_count": 14,
     "metadata": {},
     "output_type": "execute_result"
    }
   ],
   "source": [
    "trainer.shape"
   ]
  },
  {
   "cell_type": "code",
   "execution_count": 15,
   "metadata": {
    "collapsed": false
   },
   "outputs": [
    {
     "data": {
      "text/html": [
       "<div>\n",
       "<table border=\"1\" class=\"dataframe\">\n",
       "  <thead>\n",
       "    <tr style=\"text-align: right;\">\n",
       "      <th></th>\n",
       "      <th>categories</th>\n",
       "      <th>city</th>\n",
       "      <th>id</th>\n",
       "      <th>name</th>\n",
       "      <th>price</th>\n",
       "      <th>rating</th>\n",
       "      <th>review_count</th>\n",
       "      <th>zip_code</th>\n",
       "      <th>star</th>\n",
       "    </tr>\n",
       "  </thead>\n",
       "  <tbody>\n",
       "    <tr>\n",
       "      <th>0</th>\n",
       "      <td>newamerican</td>\n",
       "      <td>Chicago</td>\n",
       "      <td>alinea-chicago</td>\n",
       "      <td>Alinea</td>\n",
       "      <td>4</td>\n",
       "      <td>4.5</td>\n",
       "      <td>1542</td>\n",
       "      <td>60614</td>\n",
       "      <td>3.0</td>\n",
       "    </tr>\n",
       "    <tr>\n",
       "      <th>1</th>\n",
       "      <td>newamerican</td>\n",
       "      <td>Chicago</td>\n",
       "      <td>grace-chicago-3</td>\n",
       "      <td>Grace</td>\n",
       "      <td>4</td>\n",
       "      <td>4.5</td>\n",
       "      <td>234</td>\n",
       "      <td>60661</td>\n",
       "      <td>3.0</td>\n",
       "    </tr>\n",
       "    <tr>\n",
       "      <th>2</th>\n",
       "      <td>newamerican</td>\n",
       "      <td>Chicago</td>\n",
       "      <td>42-grams-chicago</td>\n",
       "      <td>42 grams</td>\n",
       "      <td>4</td>\n",
       "      <td>4.5</td>\n",
       "      <td>66</td>\n",
       "      <td>60640</td>\n",
       "      <td>2.0</td>\n",
       "    </tr>\n",
       "    <tr>\n",
       "      <th>3</th>\n",
       "      <td>newamerican</td>\n",
       "      <td>Chicago</td>\n",
       "      <td>acadia-chicago</td>\n",
       "      <td>Acadia</td>\n",
       "      <td>4</td>\n",
       "      <td>4.0</td>\n",
       "      <td>334</td>\n",
       "      <td>60616</td>\n",
       "      <td>2.0</td>\n",
       "    </tr>\n",
       "    <tr>\n",
       "      <th>4</th>\n",
       "      <td>newamerican</td>\n",
       "      <td>Chicago</td>\n",
       "      <td>sixteen-chicago</td>\n",
       "      <td>Sixteen</td>\n",
       "      <td>4</td>\n",
       "      <td>3.5</td>\n",
       "      <td>373</td>\n",
       "      <td>60611</td>\n",
       "      <td>2.0</td>\n",
       "    </tr>\n",
       "  </tbody>\n",
       "</table>\n",
       "</div>"
      ],
      "text/plain": [
       "    categories     city                id      name price  rating  \\\n",
       "0  newamerican  Chicago    alinea-chicago    Alinea     4     4.5   \n",
       "1  newamerican  Chicago   grace-chicago-3     Grace     4     4.5   \n",
       "2  newamerican  Chicago  42-grams-chicago  42 grams     4     4.5   \n",
       "3  newamerican  Chicago    acadia-chicago    Acadia     4     4.0   \n",
       "4  newamerican  Chicago   sixteen-chicago   Sixteen     4     3.5   \n",
       "\n",
       "   review_count  zip_code  star  \n",
       "0          1542     60614   3.0  \n",
       "1           234     60661   3.0  \n",
       "2            66     60640   2.0  \n",
       "3           334     60616   2.0  \n",
       "4           373     60611   2.0  "
      ]
     },
     "execution_count": 15,
     "metadata": {},
     "output_type": "execute_result"
    }
   ],
   "source": [
    "trainer.head()"
   ]
  },
  {
   "cell_type": "code",
   "execution_count": 16,
   "metadata": {
    "collapsed": false
   },
   "outputs": [],
   "source": [
    "trainer['rating']=pd.to_numeric(trainer['rating'])\n",
    "trainer['price']=pd.to_numeric(trainer['price'])\n",
    "trainer['review_count']=pd.to_numeric(trainer['review_count'])\n",
    "trainer['star']=pd.to_numeric(trainer['star'])"
   ]
  },
  {
   "cell_type": "code",
   "execution_count": 17,
   "metadata": {
    "collapsed": true
   },
   "outputs": [],
   "source": [
    "from sklearn.preprocessing import StandardScaler\n",
    "from sklearn.preprocessing import LabelEncoder\n",
    "ss=StandardScaler()\n",
    "le=LabelEncoder()\n",
    "#label encoded category data\n",
    "le.fit(list(trainer['categories'].values))\n",
    "trainer['categories']=le.transform(trainer['categories'].values)"
   ]
  },
  {
   "cell_type": "code",
   "execution_count": 18,
   "metadata": {
    "collapsed": false
   },
   "outputs": [
    {
     "data": {
      "text/plain": [
       "array([24,  1, 10, 14, 19, 16, 21, 34, 29, 38, 26, 32, 22, 18, 35, 15, 33,\n",
       "       37,  3, 27, 12, 30, 23, 36, 28,  7,  0,  8,  2, 11,  4, 25, 17, 13,\n",
       "       41, 31,  5,  6, 20,  9, 39, 40], dtype=int64)"
      ]
     },
     "execution_count": 18,
     "metadata": {},
     "output_type": "execute_result"
    }
   ],
   "source": [
    "trainer.categories.unique()"
   ]
  },
  {
   "cell_type": "code",
   "execution_count": 19,
   "metadata": {
    "collapsed": false
   },
   "outputs": [
    {
     "data": {
      "text/plain": [
       "(54, 9)"
      ]
     },
     "execution_count": 19,
     "metadata": {},
     "output_type": "execute_result"
    }
   ],
   "source": [
    "trainer.ix[trainer.city=='Chicago'].shape"
   ]
  },
  {
   "cell_type": "code",
   "execution_count": 20,
   "metadata": {
    "collapsed": false
   },
   "outputs": [
    {
     "data": {
      "text/plain": [
       "(217, 9)"
      ]
     },
     "execution_count": 20,
     "metadata": {},
     "output_type": "execute_result"
    }
   ],
   "source": [
    "trainer.ix[trainer.city!='Chicago'].shape"
   ]
  },
  {
   "cell_type": "code",
   "execution_count": 21,
   "metadata": {
    "collapsed": true
   },
   "outputs": [],
   "source": [
    "y_train=trainer.ix[trainer.city!='Chicago'][['star']]\n",
    "X_train=trainer.ix[trainer.city!='Chicago'][['categories','price','rating','review_count']]"
   ]
  },
  {
   "cell_type": "code",
   "execution_count": 22,
   "metadata": {
    "collapsed": true
   },
   "outputs": [],
   "source": [
    "y_test=trainer.ix[trainer.city=='Chicago'][['star']]\n",
    "X_test=trainer.ix[trainer.city=='Chicago'][['categories','price','rating','review_count']]"
   ]
  },
  {
   "cell_type": "code",
   "execution_count": 23,
   "metadata": {
    "collapsed": false
   },
   "outputs": [
    {
     "name": "stderr",
     "output_type": "stream",
     "text": [
      "C:\\Users\\Ouisu\\Anaconda2\\lib\\site-packages\\ipykernel\\__main__.py:5: DataConversionWarning: A column-vector y was passed when a 1d array was expected. Please change the shape of y to (n_samples,), for example using ravel().\n",
      "C:\\Users\\Ouisu\\Anaconda2\\lib\\site-packages\\sklearn\\svm\\base.py:514: DataConversionWarning: A column-vector y was passed when a 1d array was expected. Please change the shape of y to (n_samples, ), for example using ravel().\n",
      "  y_ = column_or_1d(y, warn=True)\n",
      "C:\\Users\\Ouisu\\Anaconda2\\lib\\site-packages\\sklearn\\utils\\validation.py:515: DataConversionWarning: A column-vector y was passed when a 1d array was expected. Please change the shape of y to (n_samples, ), for example using ravel().\n",
      "  y = column_or_1d(y, warn=True)\n",
      "C:\\Users\\Ouisu\\Anaconda2\\lib\\site-packages\\ipykernel\\__main__.py:12: DataConversionWarning: A column-vector y was passed when a 1d array was expected. Please change the shape of y to (n_samples,), for example using ravel().\n"
     ]
    }
   ],
   "source": [
    "from sklearn.ensemble import RandomForestClassifier\n",
    "from sklearn.svm import SVC\n",
    "svc = SVC()\n",
    "rf = RandomForestClassifier()\n",
    "rf.fit(X_train,y_train)\n",
    "svc.fit(X_train,y_train)\n",
    "from sklearn.linear_model  import LogisticRegression\n",
    "lr=LogisticRegression().fit(X_train,y_train)\n",
    "y_pred_lr=lr.predict(X_test)\n",
    "from sklearn.ensemble import ExtraTreesClassifier\n",
    "et=ExtraTreesClassifier()\n",
    "et.fit(X_train,y_train)\n",
    "y_pred_et=et.predict(X_test)"
   ]
  },
  {
   "cell_type": "code",
   "execution_count": 24,
   "metadata": {
    "collapsed": false
   },
   "outputs": [],
   "source": [
    "y_pred_rf=rf.predict(X_test)\n",
    "y_pred_svc=svc.predict(X_test)"
   ]
  },
  {
   "cell_type": "code",
   "execution_count": 25,
   "metadata": {
    "collapsed": false
   },
   "outputs": [
    {
     "name": "stderr",
     "output_type": "stream",
     "text": [
      "C:\\Users\\Ouisu\\Anaconda2\\lib\\site-packages\\sklearn\\utils\\validation.py:515: DataConversionWarning: A column-vector y was passed when a 1d array was expected. Please change the shape of y to (n_samples, ), for example using ravel().\n",
      "  y = column_or_1d(y, warn=True)\n"
     ]
    }
   ],
   "source": [
    "from sklearn.ensemble import GradientBoostingClassifier\n",
    "gbc=GradientBoostingClassifier()\n",
    "gbc.fit(X_train,y_train)\n",
    "y_pred_gbc=gbc.predict(X_test)"
   ]
  },
  {
   "cell_type": "code",
   "execution_count": 26,
   "metadata": {
    "collapsed": true
   },
   "outputs": [],
   "source": [
    "from sklearn.tree import DecisionTreeClassifier\n",
    "dt=DecisionTreeClassifier()\n",
    "dt.fit(X_train,y_train)\n",
    "y_pred_dt=dt.predict(X_test)"
   ]
  },
  {
   "cell_type": "code",
   "execution_count": 27,
   "metadata": {
    "collapsed": false
   },
   "outputs": [
    {
     "data": {
      "text/plain": [
       "[('Alinea', 1.0, 1.0, 3.0, 3.0, 3.0, 3.0),\n",
       " ('Grace', 1.0, 1.0, 1.0, 1.0, 1.0, 3.0),\n",
       " ('42 grams', 1.0, 1.0, 1.0, 1.0, 1.0, 2.0),\n",
       " ('Acadia', 1.0, 0.0, 1.0, 1.0, 1.0, 2.0),\n",
       " ('Sixteen', 2.0, 1.0, 1.0, 2.0, 2.0, 2.0),\n",
       " ('Blackbird', 0.0, 1.0, 0.0, 0.0, 0.0, 1.0),\n",
       " ('Boka', 0.0, 1.0, 0.0, 0.0, 0.0, 1.0),\n",
       " (\"Dusek's Board & Beer\", 0.0, 1.0, 0.0, 0.0, 0.0, 1.0),\n",
       " ('EL Ideas', 1.0, 1.0, 1.0, 1.0, 1.0, 1.0),\n",
       " ('Elizabeth Restaurant', 2.0, 1.0, 2.0, 2.0, 1.0, 1.0),\n",
       " ('Everest', 1.0, 1.0, 1.0, 1.0, 1.0, 1.0),\n",
       " ('Goosefoot', 1.0, 1.0, 1.0, 1.0, 1.0, 1.0),\n",
       " ('Longman & Eagle', 0.0, 1.0, 0.0, 0.0, 0.0, 1.0),\n",
       " ('Moto', 1.0, 1.0, 1.0, 1.0, 1.0, 1.0),\n",
       " ('Naha', 2.0, 2.0, 1.0, 2.0, 2.0, 1.0),\n",
       " ('North Pond', 1.0, 1.0, 1.0, 1.0, 1.0, 1.0),\n",
       " ('Parachute', 0.0, 1.0, 0.0, 0.0, 0.0, 1.0),\n",
       " ('Schwa', 1.0, 1.0, 1.0, 1.0, 1.0, 1.0),\n",
       " ('Sepia', 0.0, 1.0, 0.0, 0.0, 0.0, 1.0),\n",
       " ('Spiaggia', 1.0, 1.0, 1.0, 1.0, 1.0, 1.0),\n",
       " ('Topolobampo', 1.0, 1.0, 1.0, 1.0, 1.0, 1.0),\n",
       " ('Tru', 2.0, 1.0, 2.0, 2.0, 1.0, 1.0),\n",
       " ('Herb', 1.0, 1.0, 1.0, 1.0, 0.0, 0.0),\n",
       " ('Untitled Supper Club', 1.0, 1.0, 1.0, 1.0, 0.0, 0.0),\n",
       " ('Gilt Bar', 0.0, 1.0, 0.0, 0.0, 0.0, 0.0),\n",
       " ('Slurping Turtle', 0.0, 1.0, 0.0, 0.0, 0.0, 0.0),\n",
       " ('Frontera Grill', 0.0, 1.0, 0.0, 0.0, 1.0, 0.0),\n",
       " ('Bohemian House', 0.0, 1.0, 0.0, 0.0, 0.0, 0.0),\n",
       " ('Avec', 0.0, 1.0, 1.0, 1.0, 0.0, 0.0),\n",
       " ('Beatrix River North', 0.0, 1.0, 0.0, 0.0, 0.0, 0.0),\n",
       " ('GT Fish & Oyster', 0.0, 1.0, 0.0, 0.0, 0.0, 0.0),\n",
       " ('The Purple Pig', 0.0, 1.0, 1.0, 1.0, 0.0, 0.0),\n",
       " ('Au Cheval', 0.0, 1.0, 0.0, 0.0, 0.0, 0.0),\n",
       " ('Girl & the Goat', 0.0, 1.0, 0.0, 0.0, 0.0, 0.0),\n",
       " ('Sushi Dokku', 0.0, 1.0, 0.0, 0.0, 0.0, 0.0),\n",
       " (\"Maude's Liquor Bar\", 0.0, 1.0, 0.0, 0.0, 0.0, 0.0),\n",
       " ('Jaipur', 0.0, 1.0, 0.0, 0.0, 0.0, 0.0),\n",
       " ('The Publican', 0.0, 1.0, 0.0, 0.0, 0.0, 0.0),\n",
       " ('The Dawson', 0.0, 1.0, 1.0, 1.0, 0.0, 0.0),\n",
       " ('TWO', 0.0, 1.0, 1.0, 0.0, 0.0, 0.0),\n",
       " ('bellyQ', 0.0, 1.0, 0.0, 0.0, 0.0, 0.0),\n",
       " ('Pump Room', 0.0, 1.0, 1.0, 0.0, 0.0, 0.0),\n",
       " ('Decolores Galeria Y Sabores', 0.0, 0.0, 0.0, 0.0, 0.0, 0.0),\n",
       " ('Green Zebra', 1.0, 1.0, 0.0, 1.0, 1.0, 0.0),\n",
       " ('Balena', 0.0, 1.0, 0.0, 0.0, 0.0, 0.0),\n",
       " ('ARAMI', 0.0, 1.0, 1.0, 1.0, 0.0, 0.0),\n",
       " ('Mott St', 0.0, 1.0, 0.0, 0.0, 0.0, 0.0),\n",
       " ('Riccardo Trattoria', 0.0, 0.0, 0.0, 0.0, 0.0, 0.0),\n",
       " (\"Dove's Luncheonette\", 0.0, 1.0, 0.0, 0.0, 0.0, 0.0),\n",
       " ('The Duck Inn', 0.0, 1.0, 0.0, 0.0, 0.0, 0.0),\n",
       " ('Kai Zan', 0.0, 1.0, 0.0, 0.0, 0.0, 0.0),\n",
       " ('Han 202', 0.0, 1.0, 0.0, 0.0, 0.0, 0.0),\n",
       " ('Nana', 0.0, 1.0, 0.0, 0.0, 0.0, 0.0),\n",
       " ('mfk.', 0.0, 1.0, 1.0, 0.0, 0.0, 0.0)]"
      ]
     },
     "execution_count": 27,
     "metadata": {},
     "output_type": "execute_result"
    }
   ],
   "source": [
    "zip(trainer.ix[trainer.city=='Chicago']['name'],y_pred_rf, y_pred_svc,y_pred_gbc,y_pred_dt,y_pred_et,trainer.ix[trainer.city=='Chicago']['star'])"
   ]
  },
  {
   "cell_type": "code",
   "execution_count": 28,
   "metadata": {
    "collapsed": false
   },
   "outputs": [
    {
     "name": "stdout",
     "output_type": "stream",
     "text": [
      "0.703703703704\n",
      "0.333333333333\n",
      "0.611111111111\n",
      "0.648148148148\n",
      "0.740740740741\n",
      "0.777777777778\n"
     ]
    }
   ],
   "source": [
    "from sklearn.metrics import accuracy_score\n",
    "print accuracy_score(y_pred_rf,trainer.ix[trainer.city=='Chicago']['star'])\n",
    "print accuracy_score(y_pred_svc,trainer.ix[trainer.city=='Chicago']['star'])\n",
    "print accuracy_score(y_pred_gbc,trainer.ix[trainer.city=='Chicago']['star'])\n",
    "print accuracy_score(y_pred_dt,trainer.ix[trainer.city=='Chicago']['star'])\n",
    "print accuracy_score(y_pred_lr,trainer.ix[trainer.city=='Chicago']['star'])\n",
    "print accuracy_score(y_pred_et,trainer.ix[trainer.city=='Chicago']['star'])"
   ]
  },
  {
   "cell_type": "code",
   "execution_count": 29,
   "metadata": {
    "collapsed": false
   },
   "outputs": [
    {
     "name": "stdout",
     "output_type": "stream",
     "text": [
      "0.467889908257\n",
      "0.651376146789\n",
      "0.633027522936\n",
      "0.697247706422\n",
      "0.706422018349\n",
      "0.614678899083\n"
     ]
    }
   ],
   "source": [
    "y=trainer['star']\n",
    "X=trainer[['categories','price','rating','review_count']]\n",
    "from sklearn.cross_validation import train_test_split\n",
    "X_train, X_test, y_train, y_test = train_test_split(X, y, test_size=0.4, random_state=0)\n",
    "svc = SVC().fit(X_train, y_train)\n",
    "rf = RandomForestClassifier().fit(X_train, y_train)\n",
    "gbc=GradientBoostingClassifier().fit(X_train, y_train)\n",
    "dt = DecisionTreeClassifier(max_depth = 3, min_samples_split = 2)\n",
    "dt.fit(X_train, y_train)\n",
    "from sklearn.linear_model  import LogisticRegression\n",
    "lr=LogisticRegression().fit(X_train,y_train)\n",
    "y_pred_lr=lr.predict(X_test)\n",
    "et=ExtraTreesClassifier().fit(X_train,y_train)\n",
    "y_pred_et=et.predict(X_test)\n",
    "\n",
    "print svc.score(X_test, y_test)\n",
    "print rf.score(X_test, y_test)\n",
    "print gbc.score(X_test, y_test)\n",
    "print dt.score(X_test, y_test)\n",
    "print lr.score(X_test, y_test)\n",
    "print et.score(X_test, y_test)"
   ]
  },
  {
   "cell_type": "code",
   "execution_count": 30,
   "metadata": {
    "collapsed": false
   },
   "outputs": [
    {
     "data": {
      "text/plain": [
       "ExtraTreesClassifier(bootstrap=False, class_weight='balanced',\n",
       "           criterion='gini', max_depth=None, max_features='auto',\n",
       "           max_leaf_nodes=None, min_samples_leaf=1, min_samples_split=2,\n",
       "           min_weight_fraction_leaf=0.0, n_estimators=10, n_jobs=-1,\n",
       "           oob_score=False, random_state=None, verbose=0, warm_start=False)"
      ]
     },
     "execution_count": 30,
     "metadata": {},
     "output_type": "execute_result"
    }
   ],
   "source": [
    "from sklearn.ensemble import ExtraTreesClassifier\n",
    "et = ExtraTreesClassifier(class_weight='balanced', n_jobs=-1)\n",
    "et.fit(X_train, y_train)"
   ]
  },
  {
   "cell_type": "code",
   "execution_count": 31,
   "metadata": {
    "collapsed": false
   },
   "outputs": [
    {
     "data": {
      "text/html": [
       "<div>\n",
       "<table border=\"1\" class=\"dataframe\">\n",
       "  <thead>\n",
       "    <tr style=\"text-align: right;\">\n",
       "      <th></th>\n",
       "      <th>dt_importance</th>\n",
       "      <th>rf_importance</th>\n",
       "      <th>gbc_importance</th>\n",
       "      <th>et_importance</th>\n",
       "    </tr>\n",
       "  </thead>\n",
       "  <tbody>\n",
       "    <tr>\n",
       "      <th>review_count</th>\n",
       "      <td>0.134506</td>\n",
       "      <td>0.418228</td>\n",
       "      <td>0.658249</td>\n",
       "      <td>0.470414</td>\n",
       "    </tr>\n",
       "    <tr>\n",
       "      <th>price</th>\n",
       "      <td>0.658423</td>\n",
       "      <td>0.336618</td>\n",
       "      <td>0.127881</td>\n",
       "      <td>0.236057</td>\n",
       "    </tr>\n",
       "    <tr>\n",
       "      <th>categories</th>\n",
       "      <td>0.207071</td>\n",
       "      <td>0.196739</td>\n",
       "      <td>0.182578</td>\n",
       "      <td>0.193588</td>\n",
       "    </tr>\n",
       "    <tr>\n",
       "      <th>rating</th>\n",
       "      <td>0.000000</td>\n",
       "      <td>0.048415</td>\n",
       "      <td>0.031292</td>\n",
       "      <td>0.099940</td>\n",
       "    </tr>\n",
       "  </tbody>\n",
       "</table>\n",
       "</div>"
      ],
      "text/plain": [
       "              dt_importance  rf_importance  gbc_importance  et_importance\n",
       "review_count       0.134506       0.418228        0.658249       0.470414\n",
       "price              0.658423       0.336618        0.127881       0.236057\n",
       "categories         0.207071       0.196739        0.182578       0.193588\n",
       "rating             0.000000       0.048415        0.031292       0.099940"
      ]
     },
     "execution_count": 31,
     "metadata": {},
     "output_type": "execute_result"
    }
   ],
   "source": [
    "feature_importances = pd.DataFrame(zip(dt.feature_importances_,\n",
    "                               rf.feature_importances_,\n",
    "                               gbc.feature_importances_,\n",
    "                               et.feature_importances_),\n",
    "                                   index = trainer[['categories','price','rating','review_count']].columns,\n",
    "                                    columns=['dt_importance',\n",
    "                                    'rf_importance','gbc_importance',\n",
    "                                    'et_importance']).sort_values('rf_importance',\n",
    "                                                                        ascending=False)\n",
    "feature_importances.head()"
   ]
  },
  {
   "cell_type": "code",
   "execution_count": 32,
   "metadata": {
    "collapsed": true
   },
   "outputs": [],
   "source": [
    "#mapped neighboring cities to major cities\n",
    "trainer.ix[trainer.city=='Brooklyn','city']='New York'\n",
    "trainer.ix[trainer.city=='Long Island City','city']='New York'\n",
    "trainer.ix[trainer.city=='Williamsburg','city']='New York'\n",
    "trainer.ix[trainer.city=='Clinton Hill','city']='New York'\n",
    "trainer.ix[trainer.city=='Yountville','city']='San Francisco'\n",
    "trainer.ix[trainer.city=='Los Gatos','city']='San Francisco'\n",
    "trainer.ix[trainer.city=='St. Helena','city']='San Francisco'\n",
    "trainer.ix[trainer.city=='Palo Alto','city']='San Francisco'\n",
    "trainer.ix[trainer.city=='Oakland','city']='San Francisco'\n",
    "trainer.ix[trainer.city=='Rutherford','city']='San Francisco'\n",
    "trainer.ix[trainer.city=='Mountain View','city']='San Francisco'\n",
    "trainer.ix[trainer.city=='Forestville','city']='San Francisco'\n",
    "trainer.ix[trainer.city=='Napa','city']='San Francisco'\n",
    "trainer.ix[trainer.city=='Healdsburg','city']='San Francisco'\n",
    "trainer.ix[trainer.city=='Saratoga','city']='San Francisco'\n",
    "trainer.ix[trainer.city=='Burlingame','city']='San Francisco'\n",
    "trainer.ix[trainer.city=='Calistoga','city']='San Francisco'\n",
    "trainer.ix[trainer.city=='San Mateo','city']='San Francisco'\n",
    "trainer.ix[trainer.city=='Saint Helena','city']='San Francisco'\n",
    "trainer.ix[trainer.city=='Bodega Bay','city']='San Francisco'\n",
    "trainer.ix[trainer.city=='Woodside','city']='San Francisco'\n",
    "trainer.ix[trainer.city=='Sausalito','city']='San Francisco'\n",
    "trainer.ix[trainer.city=='Berkeley','city']='San Francisco'\n",
    "trainer.ix[trainer.city=='Albany','city']='San Francisco'"
   ]
  },
  {
   "cell_type": "code",
   "execution_count": 33,
   "metadata": {
    "collapsed": false
   },
   "outputs": [
    {
     "name": "stdout",
     "output_type": "stream",
     "text": [
      "4.06481481481\n",
      "4.05913978495\n",
      "4.00403225806\n"
     ]
    }
   ],
   "source": [
    "print trainer.ix[trainer.city=='Chicago']['rating'].mean()\n",
    "print trainer.ix[trainer.city=='San Francisco']['rating'].mean()\n",
    "print trainer.ix[trainer.city=='New York']['rating'].mean()"
   ]
  },
  {
   "cell_type": "code",
   "execution_count": 34,
   "metadata": {
    "collapsed": true
   },
   "outputs": [],
   "source": [
    "#standardizing ratings based on average of respective cities\n",
    "trainer.ix[trainer.city=='New York','rating']= \\\n",
    "(trainer.ix[trainer.city=='New York','rating']-trainer.ix[trainer.city=='New York','rating'].mean())/ \\\n",
    "trainer.ix[trainer.city=='New York','rating'].std()"
   ]
  },
  {
   "cell_type": "code",
   "execution_count": 35,
   "metadata": {
    "collapsed": true
   },
   "outputs": [],
   "source": [
    "trainer.ix[trainer.city=='San Francisco','rating']= \\\n",
    "(trainer.ix[trainer.city=='San Francisco','rating']-trainer.ix[trainer.city=='San Francisco','rating'].mean())/ \\\n",
    "trainer.ix[trainer.city=='San Francisco','rating'].std()"
   ]
  },
  {
   "cell_type": "code",
   "execution_count": 36,
   "metadata": {
    "collapsed": false
   },
   "outputs": [],
   "source": [
    "trainer.ix[trainer.city=='Chicago','rating']= \\\n",
    "(trainer.ix[trainer.city=='Chicago','rating']-trainer.ix[trainer.city=='Chicago','rating'].mean())/ \\\n",
    "trainer.ix[trainer.city=='Chicago','rating'].std()"
   ]
  },
  {
   "cell_type": "code",
   "execution_count": 37,
   "metadata": {
    "collapsed": true
   },
   "outputs": [],
   "source": [
    "trainer.ix[trainer.city=='New York','review_count']= \\\n",
    "(trainer.ix[trainer.city=='New York','review_count']-trainer.ix[trainer.city=='New York','review_count'].mean())/ \\\n",
    "trainer.ix[trainer.city=='New York','review_count'].std()\n",
    "\n",
    "trainer.ix[trainer.city=='San Francisco','review_count']= \\\n",
    "(trainer.ix[trainer.city=='San Francisco','review_count']-trainer.ix[trainer.city=='San Francisco','review_count'].mean())/ \\\n",
    "trainer.ix[trainer.city=='San Francisco','review_count'].std()\n",
    "\n",
    "trainer.ix[trainer.city=='Chicago','review_count']= \\\n",
    "(trainer.ix[trainer.city=='Chicago','review_count']-trainer.ix[trainer.city=='Chicago','review_count'].mean())/ \\\n",
    "trainer.ix[trainer.city=='Chicago','review_count'].std()\n",
    "\n",
    "trainer.ix[trainer.city=='New York','price']= \\\n",
    "(trainer.ix[trainer.city=='New York','price']-trainer.ix[trainer.city=='New York','price'].mean())/ \\\n",
    "trainer.ix[trainer.city=='New York','price'].std()\n",
    "\n",
    "trainer.ix[trainer.city=='San Francisco','price']= \\\n",
    "(trainer.ix[trainer.city=='San Francisco','price']-trainer.ix[trainer.city=='San Francisco','price'].mean())/ \\\n",
    "trainer.ix[trainer.city=='San Francisco','price'].std()\n",
    "\n",
    "trainer.ix[trainer.city=='Chicago','price']= \\\n",
    "(trainer.ix[trainer.city=='Chicago','price']-trainer.ix[trainer.city=='Chicago','price'].mean())/ \\\n",
    "trainer.ix[trainer.city=='Chicago','price'].std()"
   ]
  },
  {
   "cell_type": "code",
   "execution_count": 38,
   "metadata": {
    "collapsed": false
   },
   "outputs": [
    {
     "name": "stdout",
     "output_type": "stream",
     "text": [
      "0.642201834862\n",
      "0.669724770642\n",
      "0.642201834862\n",
      "0.706422018349\n"
     ]
    }
   ],
   "source": [
    "y=trainer['star']\n",
    "X=trainer[['categories','price','rating','review_count']]\n",
    "from sklearn.cross_validation import train_test_split\n",
    "X_train, X_test, y_train, y_test = train_test_split(X, y, test_size=0.4, random_state=0)\n",
    "svc = SVC().fit(X_train, y_train)\n",
    "rf = RandomForestClassifier().fit(X_train, y_train)\n",
    "gbc=GradientBoostingClassifier().fit(X_train, y_train)\n",
    "dt = DecisionTreeClassifier(max_depth = 3, min_samples_split = 2)\n",
    "dt.fit(X_train, y_train)\n",
    "print svc.score(X_test, y_test)\n",
    "print rf.score(X_test, y_test)\n",
    "print gbc.score(X_test, y_test)\n",
    "print dt.score(X_test, y_test)"
   ]
  },
  {
   "cell_type": "code",
   "execution_count": 39,
   "metadata": {
    "collapsed": false
   },
   "outputs": [
    {
     "data": {
      "text/plain": [
       "0.0    0.453875\n",
       "1.0    0.424354\n",
       "2.0    0.073801\n",
       "3.0    0.047970\n",
       "Name: star, dtype: float64"
      ]
     },
     "execution_count": 39,
     "metadata": {},
     "output_type": "execute_result"
    }
   ],
   "source": [
    "trainer['star'].value_counts()/len(trainer['star'])"
   ]
  },
  {
   "cell_type": "code",
   "execution_count": 53,
   "metadata": {
    "collapsed": false
   },
   "outputs": [
    {
     "data": {
      "text/html": [
       "<div>\n",
       "<table border=\"1\" class=\"dataframe\">\n",
       "  <thead>\n",
       "    <tr style=\"text-align: right;\">\n",
       "      <th></th>\n",
       "      <th>dt_importance</th>\n",
       "      <th>rf_importance</th>\n",
       "      <th>gb_importance</th>\n",
       "      <th>et_importance</th>\n",
       "    </tr>\n",
       "  </thead>\n",
       "  <tbody>\n",
       "    <tr>\n",
       "      <th>review_count</th>\n",
       "      <td>0.165311</td>\n",
       "      <td>0.403993</td>\n",
       "      <td>0.532591</td>\n",
       "      <td>0.470414</td>\n",
       "    </tr>\n",
       "    <tr>\n",
       "      <th>price</th>\n",
       "      <td>0.651389</td>\n",
       "      <td>0.302373</td>\n",
       "      <td>0.187523</td>\n",
       "      <td>0.236057</td>\n",
       "    </tr>\n",
       "    <tr>\n",
       "      <th>categories</th>\n",
       "      <td>0.123354</td>\n",
       "      <td>0.148029</td>\n",
       "      <td>0.190497</td>\n",
       "      <td>0.193588</td>\n",
       "    </tr>\n",
       "    <tr>\n",
       "      <th>rating</th>\n",
       "      <td>0.059946</td>\n",
       "      <td>0.145605</td>\n",
       "      <td>0.089388</td>\n",
       "      <td>0.099940</td>\n",
       "    </tr>\n",
       "  </tbody>\n",
       "</table>\n",
       "</div>"
      ],
      "text/plain": [
       "              dt_importance  rf_importance  gb_importance  et_importance\n",
       "review_count       0.165311       0.403993       0.532591       0.470414\n",
       "price              0.651389       0.302373       0.187523       0.236057\n",
       "categories         0.123354       0.148029       0.190497       0.193588\n",
       "rating             0.059946       0.145605       0.089388       0.099940"
      ]
     },
     "execution_count": 53,
     "metadata": {},
     "output_type": "execute_result"
    }
   ],
   "source": [
    "feature_importances = pd.DataFrame(zip(dt.feature_importances_,\n",
    "                               rf.feature_importances_,\n",
    "                               gbc.feature_importances_,\n",
    "                               et.feature_importances_),\n",
    "                                   index = trainer[['categories','price','rating','review_count']].columns,\n",
    "                                    columns=['dt_importance',\n",
    "                                    'rf_importance','gb_importance',\n",
    "                                    'et_importance']).sort_values('rf_importance',\n",
    "                                                                        ascending=False)\n",
    "feature_importances.head()"
   ]
  },
  {
   "cell_type": "code",
   "execution_count": 41,
   "metadata": {
    "collapsed": false
   },
   "outputs": [
    {
     "data": {
      "text/plain": [
       "[('Alinea', 1.0, 1.0, 3.0, 3.0, 3.0),\n",
       " ('Grace', 1.0, 1.0, 1.0, 1.0, 3.0),\n",
       " ('42 grams', 1.0, 1.0, 1.0, 1.0, 2.0),\n",
       " ('Acadia', 1.0, 0.0, 1.0, 1.0, 2.0),\n",
       " ('Sixteen', 2.0, 1.0, 1.0, 2.0, 2.0),\n",
       " ('Blackbird', 0.0, 1.0, 0.0, 0.0, 1.0),\n",
       " ('Boka', 0.0, 1.0, 0.0, 0.0, 1.0),\n",
       " (\"Dusek's Board & Beer\", 0.0, 1.0, 0.0, 0.0, 1.0),\n",
       " ('EL Ideas', 1.0, 1.0, 1.0, 1.0, 1.0),\n",
       " ('Elizabeth Restaurant', 2.0, 1.0, 2.0, 2.0, 1.0),\n",
       " ('Everest', 1.0, 1.0, 1.0, 1.0, 1.0),\n",
       " ('Goosefoot', 1.0, 1.0, 1.0, 1.0, 1.0),\n",
       " ('Longman & Eagle', 0.0, 1.0, 0.0, 0.0, 1.0),\n",
       " ('Moto', 1.0, 1.0, 1.0, 1.0, 1.0),\n",
       " ('Naha', 2.0, 2.0, 1.0, 2.0, 1.0),\n",
       " ('North Pond', 1.0, 1.0, 1.0, 1.0, 1.0),\n",
       " ('Parachute', 0.0, 1.0, 0.0, 0.0, 1.0),\n",
       " ('Schwa', 1.0, 1.0, 1.0, 1.0, 1.0),\n",
       " ('Sepia', 0.0, 1.0, 0.0, 0.0, 1.0),\n",
       " ('Spiaggia', 1.0, 1.0, 1.0, 1.0, 1.0),\n",
       " ('Topolobampo', 1.0, 1.0, 1.0, 1.0, 1.0),\n",
       " ('Tru', 2.0, 1.0, 2.0, 2.0, 1.0),\n",
       " ('Herb', 1.0, 1.0, 1.0, 1.0, 0.0),\n",
       " ('Untitled Supper Club', 1.0, 1.0, 1.0, 1.0, 0.0),\n",
       " ('Gilt Bar', 0.0, 1.0, 0.0, 0.0, 0.0),\n",
       " ('Slurping Turtle', 0.0, 1.0, 0.0, 0.0, 0.0),\n",
       " ('Frontera Grill', 0.0, 1.0, 0.0, 0.0, 0.0),\n",
       " ('Bohemian House', 0.0, 1.0, 0.0, 0.0, 0.0),\n",
       " ('Avec', 0.0, 1.0, 1.0, 1.0, 0.0),\n",
       " ('Beatrix River North', 0.0, 1.0, 0.0, 0.0, 0.0),\n",
       " ('GT Fish & Oyster', 0.0, 1.0, 0.0, 0.0, 0.0),\n",
       " ('The Purple Pig', 0.0, 1.0, 1.0, 1.0, 0.0),\n",
       " ('Au Cheval', 0.0, 1.0, 0.0, 0.0, 0.0),\n",
       " ('Girl & the Goat', 0.0, 1.0, 0.0, 0.0, 0.0),\n",
       " ('Sushi Dokku', 0.0, 1.0, 0.0, 0.0, 0.0),\n",
       " (\"Maude's Liquor Bar\", 0.0, 1.0, 0.0, 0.0, 0.0),\n",
       " ('Jaipur', 0.0, 1.0, 0.0, 0.0, 0.0),\n",
       " ('The Publican', 0.0, 1.0, 0.0, 0.0, 0.0),\n",
       " ('The Dawson', 0.0, 1.0, 1.0, 1.0, 0.0),\n",
       " ('TWO', 0.0, 1.0, 1.0, 0.0, 0.0),\n",
       " ('bellyQ', 0.0, 1.0, 0.0, 0.0, 0.0),\n",
       " ('Pump Room', 0.0, 1.0, 1.0, 0.0, 0.0),\n",
       " ('Decolores Galeria Y Sabores', 0.0, 0.0, 0.0, 0.0, 0.0),\n",
       " ('Green Zebra', 1.0, 1.0, 0.0, 1.0, 0.0),\n",
       " ('Balena', 0.0, 1.0, 0.0, 0.0, 0.0),\n",
       " ('ARAMI', 0.0, 1.0, 1.0, 1.0, 0.0),\n",
       " ('Mott St', 0.0, 1.0, 0.0, 0.0, 0.0),\n",
       " ('Riccardo Trattoria', 0.0, 0.0, 0.0, 0.0, 0.0),\n",
       " (\"Dove's Luncheonette\", 0.0, 1.0, 0.0, 0.0, 0.0),\n",
       " ('The Duck Inn', 0.0, 1.0, 0.0, 0.0, 0.0),\n",
       " ('Kai Zan', 0.0, 1.0, 0.0, 0.0, 0.0),\n",
       " ('Han 202', 0.0, 1.0, 0.0, 0.0, 0.0),\n",
       " ('Nana', 0.0, 1.0, 0.0, 0.0, 0.0),\n",
       " ('mfk.', 0.0, 1.0, 1.0, 0.0, 0.0)]"
      ]
     },
     "execution_count": 41,
     "metadata": {},
     "output_type": "execute_result"
    }
   ],
   "source": [
    "zip(trainer.ix[trainer.city=='Chicago']['name'],y_pred_rf, y_pred_svc,y_pred_gbc,y_pred_dt,trainer.ix[trainer.city=='Chicago']['star'])"
   ]
  },
  {
   "cell_type": "code",
   "execution_count": 49,
   "metadata": {
    "collapsed": false
   },
   "outputs": [
    {
     "name": "stdout",
     "output_type": "stream",
     "text": [
      "             precision    recall  f1-score   support\n",
      "\n",
      "        0.0       0.76      0.86      0.81        51\n",
      "        1.0       0.65      0.70      0.67        47\n",
      "        2.0       0.00      0.00      0.00         7\n",
      "        3.0       0.00      0.00      0.00         4\n",
      "\n",
      "avg / total       0.63      0.71      0.67       109\n",
      "\n"
     ]
    },
    {
     "ename": "ValueError",
     "evalue": "Found arrays with inconsistent numbers of samples: [ 54 109]",
     "output_type": "error",
     "traceback": [
      "\u001b[1;31m---------------------------------------------------------------------------\u001b[0m",
      "\u001b[1;31mValueError\u001b[0m                                Traceback (most recent call last)",
      "\u001b[1;32m<ipython-input-49-f89d122c9376>\u001b[0m in \u001b[0;36m<module>\u001b[1;34m()\u001b[0m\n\u001b[0;32m      2\u001b[0m \u001b[0mtarget_names\u001b[0m \u001b[1;33m=\u001b[0m \u001b[1;33m[\u001b[0m\u001b[1;34m'class 0'\u001b[0m\u001b[1;33m,\u001b[0m \u001b[1;34m'class 1'\u001b[0m\u001b[1;33m,\u001b[0m \u001b[1;34m'class 2'\u001b[0m\u001b[1;33m]\u001b[0m\u001b[1;33m\u001b[0m\u001b[0m\n\u001b[0;32m      3\u001b[0m \u001b[1;32mprint\u001b[0m\u001b[1;33m(\u001b[0m\u001b[0mclassification_report\u001b[0m\u001b[1;33m(\u001b[0m\u001b[0my_test\u001b[0m\u001b[1;33m,\u001b[0m \u001b[0my_pred_lr\u001b[0m\u001b[1;33m)\u001b[0m\u001b[1;33m)\u001b[0m\u001b[1;33m\u001b[0m\u001b[0m\n\u001b[1;32m----> 4\u001b[1;33m \u001b[1;32mprint\u001b[0m\u001b[1;33m(\u001b[0m\u001b[0mclassification_report\u001b[0m\u001b[1;33m(\u001b[0m\u001b[0my_test\u001b[0m\u001b[1;33m,\u001b[0m \u001b[0my_pred_gbc\u001b[0m\u001b[1;33m)\u001b[0m\u001b[1;33m)\u001b[0m\u001b[1;33m\u001b[0m\u001b[0m\n\u001b[0m\u001b[0;32m      5\u001b[0m \u001b[1;32mprint\u001b[0m\u001b[1;33m(\u001b[0m\u001b[0mclassification_report\u001b[0m\u001b[1;33m(\u001b[0m\u001b[0my_test\u001b[0m\u001b[1;33m,\u001b[0m \u001b[0my_pred_dt\u001b[0m\u001b[1;33m)\u001b[0m\u001b[1;33m)\u001b[0m\u001b[1;33m\u001b[0m\u001b[0m\n\u001b[0;32m      6\u001b[0m \u001b[1;32mprint\u001b[0m\u001b[1;33m(\u001b[0m\u001b[0mclassification_report\u001b[0m\u001b[1;33m(\u001b[0m\u001b[0my_test\u001b[0m\u001b[1;33m,\u001b[0m \u001b[0my_pred_et\u001b[0m\u001b[1;33m)\u001b[0m\u001b[1;33m)\u001b[0m\u001b[1;33m\u001b[0m\u001b[0m\n",
      "\u001b[1;32mC:\\Users\\Ouisu\\Anaconda2\\lib\\site-packages\\sklearn\\metrics\\classification.pyc\u001b[0m in \u001b[0;36mclassification_report\u001b[1;34m(y_true, y_pred, labels, target_names, sample_weight, digits)\u001b[0m\n\u001b[0;32m   1382\u001b[0m                                                   \u001b[0mlabels\u001b[0m\u001b[1;33m=\u001b[0m\u001b[0mlabels\u001b[0m\u001b[1;33m,\u001b[0m\u001b[1;33m\u001b[0m\u001b[0m\n\u001b[0;32m   1383\u001b[0m                                                   \u001b[0maverage\u001b[0m\u001b[1;33m=\u001b[0m\u001b[0mNone\u001b[0m\u001b[1;33m,\u001b[0m\u001b[1;33m\u001b[0m\u001b[0m\n\u001b[1;32m-> 1384\u001b[1;33m                                                   sample_weight=sample_weight)\n\u001b[0m\u001b[0;32m   1385\u001b[0m \u001b[1;33m\u001b[0m\u001b[0m\n\u001b[0;32m   1386\u001b[0m     \u001b[1;32mfor\u001b[0m \u001b[0mi\u001b[0m\u001b[1;33m,\u001b[0m \u001b[0mlabel\u001b[0m \u001b[1;32min\u001b[0m \u001b[0menumerate\u001b[0m\u001b[1;33m(\u001b[0m\u001b[0mlabels\u001b[0m\u001b[1;33m)\u001b[0m\u001b[1;33m:\u001b[0m\u001b[1;33m\u001b[0m\u001b[0m\n",
      "\u001b[1;32mC:\\Users\\Ouisu\\Anaconda2\\lib\\site-packages\\sklearn\\metrics\\classification.pyc\u001b[0m in \u001b[0;36mprecision_recall_fscore_support\u001b[1;34m(y_true, y_pred, beta, labels, pos_label, average, warn_for, sample_weight)\u001b[0m\n\u001b[0;32m    954\u001b[0m         \u001b[1;32mraise\u001b[0m \u001b[0mValueError\u001b[0m\u001b[1;33m(\u001b[0m\u001b[1;34m\"beta should be >0 in the F-beta score\"\u001b[0m\u001b[1;33m)\u001b[0m\u001b[1;33m\u001b[0m\u001b[0m\n\u001b[0;32m    955\u001b[0m \u001b[1;33m\u001b[0m\u001b[0m\n\u001b[1;32m--> 956\u001b[1;33m     \u001b[0my_type\u001b[0m\u001b[1;33m,\u001b[0m \u001b[0my_true\u001b[0m\u001b[1;33m,\u001b[0m \u001b[0my_pred\u001b[0m \u001b[1;33m=\u001b[0m \u001b[0m_check_targets\u001b[0m\u001b[1;33m(\u001b[0m\u001b[0my_true\u001b[0m\u001b[1;33m,\u001b[0m \u001b[0my_pred\u001b[0m\u001b[1;33m)\u001b[0m\u001b[1;33m\u001b[0m\u001b[0m\n\u001b[0m\u001b[0;32m    957\u001b[0m     \u001b[0mpresent_labels\u001b[0m \u001b[1;33m=\u001b[0m \u001b[0munique_labels\u001b[0m\u001b[1;33m(\u001b[0m\u001b[0my_true\u001b[0m\u001b[1;33m,\u001b[0m \u001b[0my_pred\u001b[0m\u001b[1;33m)\u001b[0m\u001b[1;33m\u001b[0m\u001b[0m\n\u001b[0;32m    958\u001b[0m \u001b[1;33m\u001b[0m\u001b[0m\n",
      "\u001b[1;32mC:\\Users\\Ouisu\\Anaconda2\\lib\\site-packages\\sklearn\\metrics\\classification.pyc\u001b[0m in \u001b[0;36m_check_targets\u001b[1;34m(y_true, y_pred)\u001b[0m\n\u001b[0;32m     70\u001b[0m     \u001b[0my_pred\u001b[0m \u001b[1;33m:\u001b[0m \u001b[0marray\u001b[0m \u001b[1;32mor\u001b[0m \u001b[0mindicator\u001b[0m \u001b[0mmatrix\u001b[0m\u001b[1;33m\u001b[0m\u001b[0m\n\u001b[0;32m     71\u001b[0m     \"\"\"\n\u001b[1;32m---> 72\u001b[1;33m     \u001b[0mcheck_consistent_length\u001b[0m\u001b[1;33m(\u001b[0m\u001b[0my_true\u001b[0m\u001b[1;33m,\u001b[0m \u001b[0my_pred\u001b[0m\u001b[1;33m)\u001b[0m\u001b[1;33m\u001b[0m\u001b[0m\n\u001b[0m\u001b[0;32m     73\u001b[0m     \u001b[0mtype_true\u001b[0m \u001b[1;33m=\u001b[0m \u001b[0mtype_of_target\u001b[0m\u001b[1;33m(\u001b[0m\u001b[0my_true\u001b[0m\u001b[1;33m)\u001b[0m\u001b[1;33m\u001b[0m\u001b[0m\n\u001b[0;32m     74\u001b[0m     \u001b[0mtype_pred\u001b[0m \u001b[1;33m=\u001b[0m \u001b[0mtype_of_target\u001b[0m\u001b[1;33m(\u001b[0m\u001b[0my_pred\u001b[0m\u001b[1;33m)\u001b[0m\u001b[1;33m\u001b[0m\u001b[0m\n",
      "\u001b[1;32mC:\\Users\\Ouisu\\Anaconda2\\lib\\site-packages\\sklearn\\utils\\validation.pyc\u001b[0m in \u001b[0;36mcheck_consistent_length\u001b[1;34m(*arrays)\u001b[0m\n\u001b[0;32m    174\u001b[0m     \u001b[1;32mif\u001b[0m \u001b[0mlen\u001b[0m\u001b[1;33m(\u001b[0m\u001b[0muniques\u001b[0m\u001b[1;33m)\u001b[0m \u001b[1;33m>\u001b[0m \u001b[1;36m1\u001b[0m\u001b[1;33m:\u001b[0m\u001b[1;33m\u001b[0m\u001b[0m\n\u001b[0;32m    175\u001b[0m         raise ValueError(\"Found arrays with inconsistent numbers of samples: \"\n\u001b[1;32m--> 176\u001b[1;33m                          \"%s\" % str(uniques))\n\u001b[0m\u001b[0;32m    177\u001b[0m \u001b[1;33m\u001b[0m\u001b[0m\n\u001b[0;32m    178\u001b[0m \u001b[1;33m\u001b[0m\u001b[0m\n",
      "\u001b[1;31mValueError\u001b[0m: Found arrays with inconsistent numbers of samples: [ 54 109]"
     ]
    }
   ],
   "source": [
    "from sklearn.metrics import classification_report\n",
    "target_names = ['class 0', 'class 1', 'class 2']\n",
    "print(classification_report(y_test, y_pred_lr))\n",
    "print(classification_report(y_test, y_pred_gbc))\n",
    "print(classification_report(y_test, y_pred_dt))\n",
    "print(classification_report(y_test, y_pred_et))\n",
    "print(classification_report(y_test, y_pred_rf))"
   ]
  },
  {
   "cell_type": "code",
   "execution_count": 50,
   "metadata": {
    "collapsed": false
   },
   "outputs": [
    {
     "data": {
      "text/plain": [
       "0.0    0.453875\n",
       "1.0    0.424354\n",
       "2.0    0.073801\n",
       "3.0    0.047970\n",
       "Name: star, dtype: float64"
      ]
     },
     "execution_count": 50,
     "metadata": {},
     "output_type": "execute_result"
    }
   ],
   "source": [
    "trainer['star'].value_counts()/len(trainer['star'])"
   ]
  },
  {
   "cell_type": "code",
   "execution_count": null,
   "metadata": {
    "collapsed": true
   },
   "outputs": [],
   "source": []
  }
 ],
 "metadata": {
  "kernelspec": {
   "display_name": "Python 2",
   "language": "python",
   "name": "python2"
  },
  "language_info": {
   "codemirror_mode": {
    "name": "ipython",
    "version": 2
   },
   "file_extension": ".py",
   "mimetype": "text/x-python",
   "name": "python",
   "nbconvert_exporter": "python",
   "pygments_lexer": "ipython2",
   "version": "2.7.11"
  }
 },
 "nbformat": 4,
 "nbformat_minor": 0
}
