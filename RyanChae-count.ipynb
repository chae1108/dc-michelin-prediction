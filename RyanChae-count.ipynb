{
 "cells": [
  {
   "cell_type": "code",
   "execution_count": 3,
   "metadata": {
    "collapsed": false
   },
   "outputs": [
    {
     "data": {
      "text/html": [
       "<div>\n",
       "<table border=\"1\" class=\"dataframe\">\n",
       "  <thead>\n",
       "    <tr style=\"text-align: right;\">\n",
       "      <th></th>\n",
       "      <th>City</th>\n",
       "      <th>InitialOne</th>\n",
       "      <th>InitialTwo</th>\n",
       "      <th>InitialTree</th>\n",
       "    </tr>\n",
       "  </thead>\n",
       "  <tbody>\n",
       "    <tr>\n",
       "      <th>0</th>\n",
       "      <td>Chicago</td>\n",
       "      <td>18.0</td>\n",
       "      <td>3.0</td>\n",
       "      <td>2.0</td>\n",
       "    </tr>\n",
       "    <tr>\n",
       "      <th>1</th>\n",
       "      <td>New York</td>\n",
       "      <td>31.0</td>\n",
       "      <td>4.0</td>\n",
       "      <td>4.0</td>\n",
       "    </tr>\n",
       "    <tr>\n",
       "      <th>2</th>\n",
       "      <td>San Francisco</td>\n",
       "      <td>23.0</td>\n",
       "      <td>4.0</td>\n",
       "      <td>1.0</td>\n",
       "    </tr>\n",
       "    <tr>\n",
       "      <th>3</th>\n",
       "      <td>Las Vegas</td>\n",
       "      <td>13.0</td>\n",
       "      <td>3.0</td>\n",
       "      <td>1.0</td>\n",
       "    </tr>\n",
       "    <tr>\n",
       "      <th>4</th>\n",
       "      <td>Los Angeles</td>\n",
       "      <td>16.0</td>\n",
       "      <td>4.0</td>\n",
       "      <td>0.0</td>\n",
       "    </tr>\n",
       "    <tr>\n",
       "      <th>5</th>\n",
       "      <td>Washington</td>\n",
       "      <td>NaN</td>\n",
       "      <td>NaN</td>\n",
       "      <td>NaN</td>\n",
       "    </tr>\n",
       "  </tbody>\n",
       "</table>\n",
       "</div>"
      ],
      "text/plain": [
       "            City  InitialOne  InitialTwo  InitialTree\n",
       "0        Chicago        18.0         3.0          2.0\n",
       "1       New York        31.0         4.0          4.0\n",
       "2  San Francisco        23.0         4.0          1.0\n",
       "3      Las Vegas        13.0         3.0          1.0\n",
       "4    Los Angeles        16.0         4.0          0.0\n",
       "5     Washington         NaN         NaN          NaN"
      ]
     },
     "execution_count": 3,
     "metadata": {},
     "output_type": "execute_result"
    }
   ],
   "source": [
    "#calculates the numbers of stared-restaurants for each star (1,2,3) - didn't end up using it\n",
    "import pandas as pd\n",
    "df=pd.read_csv('restaurant_number.csv')\n",
    "df[['City','InitialOne','InitialTwo','InitialTree']]"
   ]
  },
  {
   "cell_type": "code",
   "execution_count": 28,
   "metadata": {
    "collapsed": false
   },
   "outputs": [],
   "source": [
    "from sklearn.preprocessing import StandardScaler\n",
    "df[['MetroPop','ZagatTotalRes','ZagatFood','ZagatDecor','ZagatService','ChefDBRest','YelpFineDining']]=\\\n",
    "StandardScaler().fit_transform(df[['MetroPop','ZagatTotalRes','ZagatFood','ZagatDecor','ZagatService','ChefDBRest','YelpFineDining']])"
   ]
  },
  {
   "cell_type": "code",
   "execution_count": 29,
   "metadata": {
    "collapsed": true
   },
   "outputs": [],
   "source": [
    "from sklearn.linear_model import LinearRegression\n",
    "lm=LinearRegression()"
   ]
  },
  {
   "cell_type": "code",
   "execution_count": 30,
   "metadata": {
    "collapsed": false
   },
   "outputs": [
    {
     "data": {
      "text/html": [
       "<div>\n",
       "<table border=\"1\" class=\"dataframe\">\n",
       "  <thead>\n",
       "    <tr style=\"text-align: right;\">\n",
       "      <th></th>\n",
       "      <th>City</th>\n",
       "      <th>Population</th>\n",
       "      <th>MetroPop</th>\n",
       "      <th>ZagatTotalRes</th>\n",
       "      <th>ZagatFood</th>\n",
       "      <th>ZagatDecor</th>\n",
       "      <th>ZagatService</th>\n",
       "      <th>ChefDBRest</th>\n",
       "      <th>YelpFineDining</th>\n",
       "      <th>InitialYear</th>\n",
       "      <th>InitialOne</th>\n",
       "      <th>InitialTwo</th>\n",
       "      <th>InitialTree</th>\n",
       "    </tr>\n",
       "  </thead>\n",
       "  <tbody>\n",
       "    <tr>\n",
       "      <th>0</th>\n",
       "      <td>Chicago</td>\n",
       "      <td>2720546.0</td>\n",
       "      <td>0.037697</td>\n",
       "      <td>-0.235423</td>\n",
       "      <td>0.760947</td>\n",
       "      <td>-0.057725</td>\n",
       "      <td>1.422788</td>\n",
       "      <td>-0.187451</td>\n",
       "      <td>-0.293602</td>\n",
       "      <td>2011.0</td>\n",
       "      <td>18.0</td>\n",
       "      <td>3.0</td>\n",
       "      <td>2.0</td>\n",
       "    </tr>\n",
       "    <tr>\n",
       "      <th>1</th>\n",
       "      <td>New York</td>\n",
       "      <td>1636268.0</td>\n",
       "      <td>1.800404</td>\n",
       "      <td>1.621702</td>\n",
       "      <td>1.336708</td>\n",
       "      <td>1.476116</td>\n",
       "      <td>0.504279</td>\n",
       "      <td>2.186091</td>\n",
       "      <td>2.164178</td>\n",
       "      <td>2006.0</td>\n",
       "      <td>31.0</td>\n",
       "      <td>4.0</td>\n",
       "      <td>4.0</td>\n",
       "    </tr>\n",
       "    <tr>\n",
       "      <th>2</th>\n",
       "      <td>San Francisco</td>\n",
       "      <td>864816.0</td>\n",
       "      <td>-0.773896</td>\n",
       "      <td>0.628387</td>\n",
       "      <td>0.498319</td>\n",
       "      <td>-0.107204</td>\n",
       "      <td>-0.036020</td>\n",
       "      <td>-0.191212</td>\n",
       "      <td>-0.545837</td>\n",
       "      <td>2006.0</td>\n",
       "      <td>23.0</td>\n",
       "      <td>4.0</td>\n",
       "      <td>1.0</td>\n",
       "    </tr>\n",
       "    <tr>\n",
       "      <th>3</th>\n",
       "      <td>Las Vegas</td>\n",
       "      <td>623747.0</td>\n",
       "      <td>-1.195259</td>\n",
       "      <td>-1.638613</td>\n",
       "      <td>-1.552197</td>\n",
       "      <td>-1.195737</td>\n",
       "      <td>-1.224679</td>\n",
       "      <td>-0.779269</td>\n",
       "      <td>-0.775875</td>\n",
       "      <td>2008.0</td>\n",
       "      <td>13.0</td>\n",
       "      <td>3.0</td>\n",
       "      <td>1.0</td>\n",
       "    </tr>\n",
       "    <tr>\n",
       "      <th>4</th>\n",
       "      <td>Los Angeles</td>\n",
       "      <td>3971883.0</td>\n",
       "      <td>0.665934</td>\n",
       "      <td>0.098352</td>\n",
       "      <td>-0.057239</td>\n",
       "      <td>1.030807</td>\n",
       "      <td>0.666369</td>\n",
       "      <td>-0.431952</td>\n",
       "      <td>0.025224</td>\n",
       "      <td>2008.0</td>\n",
       "      <td>16.0</td>\n",
       "      <td>4.0</td>\n",
       "      <td>0.0</td>\n",
       "    </tr>\n",
       "    <tr>\n",
       "      <th>5</th>\n",
       "      <td>Washington</td>\n",
       "      <td>672228.0</td>\n",
       "      <td>-0.534881</td>\n",
       "      <td>-0.474406</td>\n",
       "      <td>-0.986538</td>\n",
       "      <td>-1.146258</td>\n",
       "      <td>-1.332739</td>\n",
       "      <td>-0.596207</td>\n",
       "      <td>-0.574087</td>\n",
       "      <td>2016.0</td>\n",
       "      <td>NaN</td>\n",
       "      <td>NaN</td>\n",
       "      <td>NaN</td>\n",
       "    </tr>\n",
       "  </tbody>\n",
       "</table>\n",
       "</div>"
      ],
      "text/plain": [
       "            City  Population  MetroPop  ZagatTotalRes  ZagatFood  ZagatDecor  \\\n",
       "0        Chicago   2720546.0  0.037697      -0.235423   0.760947   -0.057725   \n",
       "1       New York   1636268.0  1.800404       1.621702   1.336708    1.476116   \n",
       "2  San Francisco    864816.0 -0.773896       0.628387   0.498319   -0.107204   \n",
       "3      Las Vegas    623747.0 -1.195259      -1.638613  -1.552197   -1.195737   \n",
       "4    Los Angeles   3971883.0  0.665934       0.098352  -0.057239    1.030807   \n",
       "5     Washington    672228.0 -0.534881      -0.474406  -0.986538   -1.146258   \n",
       "\n",
       "   ZagatService  ChefDBRest  YelpFineDining  InitialYear  InitialOne  \\\n",
       "0      1.422788   -0.187451       -0.293602       2011.0        18.0   \n",
       "1      0.504279    2.186091        2.164178       2006.0        31.0   \n",
       "2     -0.036020   -0.191212       -0.545837       2006.0        23.0   \n",
       "3     -1.224679   -0.779269       -0.775875       2008.0        13.0   \n",
       "4      0.666369   -0.431952        0.025224       2008.0        16.0   \n",
       "5     -1.332739   -0.596207       -0.574087       2016.0         NaN   \n",
       "\n",
       "   InitialTwo  InitialTree  \n",
       "0         3.0          2.0  \n",
       "1         4.0          4.0  \n",
       "2         4.0          1.0  \n",
       "3         3.0          1.0  \n",
       "4         4.0          0.0  \n",
       "5         NaN          NaN  "
      ]
     },
     "execution_count": 30,
     "metadata": {},
     "output_type": "execute_result"
    }
   ],
   "source": [
    "df"
   ]
  },
  {
   "cell_type": "code",
   "execution_count": 31,
   "metadata": {
    "collapsed": false
   },
   "outputs": [],
   "source": [
    "X_train=df[['MetroPop','ZagatTotalRes','ZagatFood','ZagatDecor','ZagatService','ChefDBRest','YelpFineDining']][:5]\n",
    "y_train=df[['InitialOne','InitialTwo','InitialTree']][:5]"
   ]
  },
  {
   "cell_type": "code",
   "execution_count": 32,
   "metadata": {
    "collapsed": false
   },
   "outputs": [],
   "source": [
    "X_test=df[['MetroPop','ZagatTotalRes','ZagatFood','ZagatDecor','ZagatService','ChefDBRest','YelpFineDining']][5:]\n",
    "y_test=df[['InitialOne','InitialTwo','InitialTree']][5:]"
   ]
  },
  {
   "cell_type": "code",
   "execution_count": 33,
   "metadata": {
    "collapsed": false
   },
   "outputs": [
    {
     "data": {
      "text/plain": [
       "LinearRegression(copy_X=True, fit_intercept=True, n_jobs=1, normalize=False)"
      ]
     },
     "execution_count": 33,
     "metadata": {},
     "output_type": "execute_result"
    }
   ],
   "source": [
    "lm.fit(X_train,y_train)"
   ]
  },
  {
   "cell_type": "code",
   "execution_count": 34,
   "metadata": {
    "collapsed": false
   },
   "outputs": [
    {
     "data": {
      "text/plain": [
       "array([[ 17.71041236,   3.54949888,   0.99532532]])"
      ]
     },
     "execution_count": 34,
     "metadata": {},
     "output_type": "execute_result"
    }
   ],
   "source": [
    "lm.predict(X_test)"
   ]
  },
  {
   "cell_type": "code",
   "execution_count": 21,
   "metadata": {
    "collapsed": false
   },
   "outputs": [],
   "source": [
    "X_train2=df[['Population','ZagatTotalRes','ZagatFood','ZagatDecor','ZagatService','ChefDBRest','YelpFineDining']][:5]\n",
    "y_train2=df[['InitialOne','InitialTwo','InitialTree']][:5]"
   ]
  },
  {
   "cell_type": "code",
   "execution_count": 22,
   "metadata": {
    "collapsed": true
   },
   "outputs": [],
   "source": [
    "X_test2=df[['Population','ZagatTotalRes','ZagatFood','ZagatDecor','ZagatService','ChefDBRest','YelpFineDining']][5:]\n",
    "y_test2=df[['InitialOne','InitialTwo','InitialTree']][5:]"
   ]
  },
  {
   "cell_type": "code",
   "execution_count": 23,
   "metadata": {
    "collapsed": false
   },
   "outputs": [
    {
     "data": {
      "text/plain": [
       "array([[ 16.63556391,   3.63098755,   0.52632405]])"
      ]
     },
     "execution_count": 23,
     "metadata": {},
     "output_type": "execute_result"
    }
   ],
   "source": [
    "lm.fit(X_train2,y_train2)\n",
    "lm.predict(X_test2)"
   ]
  },
  {
   "cell_type": "code",
   "execution_count": null,
   "metadata": {
    "collapsed": true
   },
   "outputs": [],
   "source": []
  }
 ],
 "metadata": {
  "kernelspec": {
   "display_name": "Python 2",
   "language": "python",
   "name": "python2"
  },
  "language_info": {
   "codemirror_mode": {
    "name": "ipython",
    "version": 2
   },
   "file_extension": ".py",
   "mimetype": "text/x-python",
   "name": "python",
   "nbconvert_exporter": "python",
   "pygments_lexer": "ipython2",
   "version": "2.7.11"
  }
 },
 "nbformat": 4,
 "nbformat_minor": 0
}
