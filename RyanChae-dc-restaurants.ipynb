{
 "cells": [
  {
   "cell_type": "code",
   "execution_count": 270,
   "metadata": {
    "collapsed": true
   },
   "outputs": [],
   "source": [
    "#gets the list of restaurants for potential Michelin stars by using Yelp search API\n",
    "import requests\n",
    "import os\n",
    "import pandas as pd"
   ]
  },
  {
   "cell_type": "code",
   "execution_count": 271,
   "metadata": {
    "collapsed": true
   },
   "outputs": [],
   "source": [
    "def get_access_token():\n",
    "    response = requests.post('https://api.yelp.com/oauth2/token',\n",
    "                             data={'grand_type': 'client_credentials',\n",
    "                             'client_id': 'XXXXX',\n",
    "                             'client_secret': 'XXXXX'})\n",
    "    return response.json()['access_token']"
   ]
  },
  {
   "cell_type": "code",
   "execution_count": 272,
   "metadata": {
    "collapsed": true
   },
   "outputs": [],
   "source": [
    "def get_search(loc,sor,pri,ter):\n",
    "    access_token = get_access_token()\n",
    "    base_url = \"https://api.yelp.com/v3/businesses/search?\"\n",
    "    search_terms = \"location=%s&categories=restaurants&sort_by=%s&price=%s&term=%s\"\n",
    "    response = requests.get(base_url + search_terms % (loc,sor,pri,ter),\n",
    "                            headers={'Authorization': 'Bearer %s' % access_token})\n",
    "    search_result = response.json()\n",
    "    return search_result"
   ]
  },
  {
   "cell_type": "code",
   "execution_count": 323,
   "metadata": {
    "collapsed": false
   },
   "outputs": [],
   "source": [
    "restaurant=get_search(\"Washington, DC\",\"rating\",\"2,3,4\",\"grill room\")"
   ]
  },
  {
   "cell_type": "code",
   "execution_count": 324,
   "metadata": {
    "collapsed": false
   },
   "outputs": [],
   "source": [
    "list_rest=[]\n",
    "for i,j in enumerate(restaurant['businesses']):\n",
    "    r_dict={}\n",
    "    r_dict['name']=restaurant['businesses'][i]['name']\n",
    "    r_dict['rating']=restaurant['businesses'][i]['rating']\n",
    "    r_dict['price']=restaurant['businesses'][i]['price']\n",
    "    r_dict['review_count']=restaurant['businesses'][i]['review_count']\n",
    "    r_dict['categories']=restaurant['businesses'][i]['categories'][0]['alias']\n",
    "    r_dict['id']=restaurant['businesses'][i]['id']\n",
    "    r_dict['city']=restaurant['businesses'][i]['location']['city']\n",
    "    r_dict['zip_code']=restaurant['businesses'][i]['location']['zip_code']\n",
    "    list_rest.append(r_dict)"
   ]
  },
  {
   "cell_type": "code",
   "execution_count": 325,
   "metadata": {
    "collapsed": false
   },
   "outputs": [],
   "source": [
    "dc_list=list_rest"
   ]
  },
  {
   "cell_type": "code",
   "execution_count": 326,
   "metadata": {
    "collapsed": false
   },
   "outputs": [
    {
     "data": {
      "text/html": [
       "<div>\n",
       "<table border=\"1\" class=\"dataframe\">\n",
       "  <thead>\n",
       "    <tr style=\"text-align: right;\">\n",
       "      <th></th>\n",
       "      <th>categories</th>\n",
       "      <th>city</th>\n",
       "      <th>id</th>\n",
       "      <th>name</th>\n",
       "      <th>price</th>\n",
       "      <th>rating</th>\n",
       "      <th>review_count</th>\n",
       "      <th>zip_code</th>\n",
       "    </tr>\n",
       "  </thead>\n",
       "  <tbody>\n",
       "    <tr>\n",
       "      <th>0</th>\n",
       "      <td>tradamerican</td>\n",
       "      <td>Washington</td>\n",
       "      <td>the-grill-room-washington</td>\n",
       "      <td>The Grill Room</td>\n",
       "      <td>$$$</td>\n",
       "      <td>3.5</td>\n",
       "      <td>63</td>\n",
       "      <td>20007</td>\n",
       "    </tr>\n",
       "  </tbody>\n",
       "</table>\n",
       "</div>"
      ],
      "text/plain": [
       "     categories        city                         id            name price  \\\n",
       "0  tradamerican  Washington  the-grill-room-washington  The Grill Room   $$$   \n",
       "\n",
       "   rating  review_count zip_code  \n",
       "0     3.5            63    20007  "
      ]
     },
     "execution_count": 326,
     "metadata": {},
     "output_type": "execute_result"
    }
   ],
   "source": [
    "df2=pd.DataFrame(dc_list)\n",
    "df2.head()"
   ]
  },
  {
   "cell_type": "code",
   "execution_count": 315,
   "metadata": {
    "collapsed": false
   },
   "outputs": [],
   "source": [
    "with open('dc_list2.csv', 'a') as f:\n",
    "    df2.to_csv(f, header=True, index=False, encoding='utf-8')"
   ]
  },
  {
   "cell_type": "code",
   "execution_count": 316,
   "metadata": {
    "collapsed": false
   },
   "outputs": [],
   "source": [
    "dcdf=pd.read_csv('dc_list2.csv')"
   ]
  },
  {
   "cell_type": "code",
   "execution_count": 317,
   "metadata": {
    "collapsed": false
   },
   "outputs": [
    {
     "data": {
      "text/plain": [
       "(87, 8)"
      ]
     },
     "execution_count": 317,
     "metadata": {},
     "output_type": "execute_result"
    }
   ],
   "source": [
    "dcdf.shape"
   ]
  },
  {
   "cell_type": "code",
   "execution_count": 322,
   "metadata": {
    "collapsed": false
   },
   "outputs": [
    {
     "data": {
      "text/html": [
       "<div>\n",
       "<table border=\"1\" class=\"dataframe\">\n",
       "  <thead>\n",
       "    <tr style=\"text-align: right;\">\n",
       "      <th></th>\n",
       "      <th>categories</th>\n",
       "      <th>city</th>\n",
       "      <th>id</th>\n",
       "      <th>name</th>\n",
       "      <th>price</th>\n",
       "      <th>rating</th>\n",
       "      <th>review_count</th>\n",
       "      <th>zip_code</th>\n",
       "    </tr>\n",
       "  </thead>\n",
       "  <tbody>\n",
       "  </tbody>\n",
       "</table>\n",
       "</div>"
      ],
      "text/plain": [
       "Empty DataFrame\n",
       "Columns: [categories, city, id, name, price, rating, review_count, zip_code]\n",
       "Index: []"
      ]
     },
     "execution_count": 322,
     "metadata": {},
     "output_type": "execute_result"
    }
   ],
   "source": [
    "dcdf"
   ]
  },
  {
   "cell_type": "code",
   "execution_count": null,
   "metadata": {
    "collapsed": true
   },
   "outputs": [],
   "source": []
  }
 ],
 "metadata": {
  "kernelspec": {
   "display_name": "Python 2",
   "language": "python",
   "name": "python2"
  },
  "language_info": {
   "codemirror_mode": {
    "name": "ipython",
    "version": 2
   },
   "file_extension": ".py",
   "mimetype": "text/x-python",
   "name": "python",
   "nbconvert_exporter": "python",
   "pygments_lexer": "ipython2",
   "version": "2.7.11"
  }
 },
 "nbformat": 4,
 "nbformat_minor": 0
}
