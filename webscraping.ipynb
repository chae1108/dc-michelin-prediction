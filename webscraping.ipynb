{
 "cells": [
  {
   "cell_type": "code",
   "execution_count": 20,
   "metadata": {
    "collapsed": false
   },
   "outputs": [],
   "source": [
    "from bs4 import BeautifulSoup\n",
    "import requests\n",
    "r = requests.get('https://www.viamichelin.com/web/Restaurants/Restaurants-Chicago-_-Illinois-United_States?strLocid=31NG9zYWgxMGNOREV1T0Rnek1qTT1jTFRnM0xqWXpNalE9&stars=1')"
   ]
  },
  {
   "cell_type": "code",
   "execution_count": 21,
   "metadata": {
    "collapsed": false
   },
   "outputs": [],
   "source": [
    "soup = BeautifulSoup(r.content)"
   ]
  },
  {
   "cell_type": "code",
   "execution_count": 22,
   "metadata": {
    "collapsed": false
   },
   "outputs": [
    {
     "name": "stdout",
     "output_type": "stream",
     "text": [
      "129\n",
      "16\n",
      "Everest: /web/Restaurant/Chicago-60605-Everest-269317-41102\n",
      "Topolobampo: /web/Restaurant/Chicago-60654-Topolobampo-269297-41102\n",
      "Sepia: /web/Restaurant/Chicago-60661-Sepia-273488-41102\n",
      "NAHA: /web/Restaurant/Chicago-60610-NAHA-273480-41102\n",
      "Blackbird: /web/Restaurant/Chicago-60661-Blackbird-273443-41102\n",
      "Tru: /web/Restaurant/Chicago-60611-Tru-269298-41102\n",
      "Spiaggia: /web/Restaurant/Chicago-60611-Spiaggia-273490-41102\n",
      "Dusek's (Board & Beer): /web/Restaurant/Chicago-60608-Dusek_s_Board_Beer-436451-41102\n",
      "Boka: /web/Restaurant/Chicago-60614-Boka-268977-41102\n",
      "Schwa: /web/Restaurant/Chicago-60662-Schwa-269239-41102\n",
      "EL Ideas: /web/Restaurant/Chicago-60618-EL_Ideas-374769-41102\n",
      "North Pond: /web/Restaurant/Chicago-60614-North_Pond-269312-41102\n",
      "Longman & Eagle: /web/Restaurant/Chicago-60647-Longman_Eagle-289577-41102\n",
      "Parachute: /web/Restaurant/Chicago-60618-Parachute-448332-41102\n",
      "Elizabeth: /web/Restaurant/Chicago-60625-Elizabeth-399949-41102\n",
      "Goosefoot: /web/Restaurant/Chicago-60625-Goosefoot-366448-41102\n"
     ]
    }
   ],
   "source": [
    "links = soup.find_all('a')\n",
    "print len(links)\n",
    "links = [l for l in links if '/web/Restaurant/' in l['href']]\n",
    "print len(links)\n",
    "\n",
    "for a in links: \n",
    "    print '%s: %s'%(a.text.strip(),a['href'])"
   ]
  },
  {
   "cell_type": "code",
   "execution_count": 23,
   "metadata": {
    "collapsed": false
   },
   "outputs": [
    {
     "name": "stdout",
     "output_type": "stream",
     "text": [
      "['https://www.viamichelin.com/web/Restaurant/Chicago-60605-Everest-269317-41102', 'https://www.viamichelin.com/web/Restaurant/Chicago-60654-Topolobampo-269297-41102', 'https://www.viamichelin.com/web/Restaurant/Chicago-60661-Sepia-273488-41102', 'https://www.viamichelin.com/web/Restaurant/Chicago-60610-NAHA-273480-41102', 'https://www.viamichelin.com/web/Restaurant/Chicago-60661-Blackbird-273443-41102', 'https://www.viamichelin.com/web/Restaurant/Chicago-60611-Tru-269298-41102', 'https://www.viamichelin.com/web/Restaurant/Chicago-60611-Spiaggia-273490-41102', 'https://www.viamichelin.com/web/Restaurant/Chicago-60608-Dusek_s_Board_Beer-436451-41102', 'https://www.viamichelin.com/web/Restaurant/Chicago-60614-Boka-268977-41102', 'https://www.viamichelin.com/web/Restaurant/Chicago-60662-Schwa-269239-41102', 'https://www.viamichelin.com/web/Restaurant/Chicago-60618-EL_Ideas-374769-41102', 'https://www.viamichelin.com/web/Restaurant/Chicago-60614-North_Pond-269312-41102', 'https://www.viamichelin.com/web/Restaurant/Chicago-60647-Longman_Eagle-289577-41102', 'https://www.viamichelin.com/web/Restaurant/Chicago-60618-Parachute-448332-41102', 'https://www.viamichelin.com/web/Restaurant/Chicago-60625-Elizabeth-399949-41102', 'https://www.viamichelin.com/web/Restaurant/Chicago-60625-Goosefoot-366448-41102']\n"
     ]
    }
   ],
   "source": [
    "hrefs = ['https://www.viamichelin.com'+a['href'].strip() for a in links]\n",
    "print hrefs"
   ]
  },
  {
   "cell_type": "code",
   "execution_count": 24,
   "metadata": {
    "collapsed": true
   },
   "outputs": [],
   "source": [
    "def connection(url):\n",
    "    r = requests.get(url)\n",
    "    soup = None\n",
    "    if r.ok:\n",
    "        soup = BeautifulSoup(r.text)\n",
    "    else:\n",
    "        print 'request unsuccessful with code %s'%response.status_code\n",
    "    return soup"
   ]
  },
  {
   "cell_type": "code",
   "execution_count": 25,
   "metadata": {
    "collapsed": false
   },
   "outputs": [
    {
     "name": "stdout",
     "output_type": "stream",
     "text": [
      "getting/souping: https://www.viamichelin.com/web/Restaurant/Chicago-60605-Everest-269317-41102\n",
      "getting/souping: https://www.viamichelin.com/web/Restaurant/Chicago-60654-Topolobampo-269297-41102\n",
      "getting/souping: https://www.viamichelin.com/web/Restaurant/Chicago-60661-Sepia-273488-41102\n",
      "getting/souping: https://www.viamichelin.com/web/Restaurant/Chicago-60610-NAHA-273480-41102\n",
      "getting/souping: https://www.viamichelin.com/web/Restaurant/Chicago-60661-Blackbird-273443-41102\n",
      "getting/souping: https://www.viamichelin.com/web/Restaurant/Chicago-60611-Tru-269298-41102\n",
      "getting/souping: https://www.viamichelin.com/web/Restaurant/Chicago-60611-Spiaggia-273490-41102\n",
      "getting/souping: https://www.viamichelin.com/web/Restaurant/Chicago-60608-Dusek_s_Board_Beer-436451-41102\n",
      "getting/souping: https://www.viamichelin.com/web/Restaurant/Chicago-60614-Boka-268977-41102\n",
      "getting/souping: https://www.viamichelin.com/web/Restaurant/Chicago-60662-Schwa-269239-41102\n",
      "getting/souping: https://www.viamichelin.com/web/Restaurant/Chicago-60618-EL_Ideas-374769-41102\n",
      "getting/souping: https://www.viamichelin.com/web/Restaurant/Chicago-60614-North_Pond-269312-41102\n",
      "getting/souping: https://www.viamichelin.com/web/Restaurant/Chicago-60647-Longman_Eagle-289577-41102\n",
      "getting/souping: https://www.viamichelin.com/web/Restaurant/Chicago-60618-Parachute-448332-41102\n",
      "getting/souping: https://www.viamichelin.com/web/Restaurant/Chicago-60625-Elizabeth-399949-41102\n",
      "getting/souping: https://www.viamichelin.com/web/Restaurant/Chicago-60625-Goosefoot-366448-41102\n"
     ]
    }
   ],
   "source": [
    "raw_sessions = []\n",
    "\n",
    "for url in hrefs:\n",
    "    print 'getting/souping: %s'%url\n",
    "    soup = connection(url)\n",
    "    raw_sessions.append(soup.find(id='content'))"
   ]
  },
  {
   "cell_type": "code",
   "execution_count": 74,
   "metadata": {
    "collapsed": false
   },
   "outputs": [
    {
     "ename": "SyntaxError",
     "evalue": "invalid syntax (<ipython-input-74-fff183d4fa7a>, line 3)",
     "output_type": "error",
     "traceback": [
      "\u001b[1;36m  File \u001b[1;32m\"<ipython-input-74-fff183d4fa7a>\"\u001b[1;36m, line \u001b[1;32m3\u001b[0m\n\u001b[1;33m    address = session.find(div class_='datasheet-item')\u001b[0m\n\u001b[1;37m                                    ^\u001b[0m\n\u001b[1;31mSyntaxError\u001b[0m\u001b[1;31m:\u001b[0m invalid syntax\n"
     ]
    }
   ],
   "source": [
    "session = raw_sessions[-1]\n",
    "name = session.find(class_='datasheet-name').renderContents()\n",
    "address = session.find(div class_='datasheet-item')\n",
    "star = 1\n",
    "\n",
    "print name, address, price, star"
   ]
  },
  {
   "cell_type": "code",
   "execution_count": 99,
   "metadata": {
    "collapsed": false
   },
   "outputs": [
    {
     "name": "stdout",
     "output_type": "stream",
     "text": [
      "\n",
      "\tEverest\n",
      "440 S. LaSalle St., Chicago 60605 Cuisine French \n",
      "\t\t\tFrom <em>75 USD</em>\n",
      "\t\t\tto <em>150 USD</em>\n",
      "\n"
     ]
    }
   ],
   "source": [
    "r=requests.get(hrefs[0])\n",
    "soup = BeautifulSoup(r.content)\n",
    "name = soup.find('div',{'class':'datasheet-name'}).renderContents()\n",
    "address = soup.find_all('div',{'class':'datasheet-item'})[1].renderContents()\n",
    "style = soup.find('div',{'class':'datasheet-cooking-type'}).renderContents()\n",
    "price = soup.find('div',{'class':'datasheet-price'}).renderContents()\n",
    "print name, address, style, price"
   ]
  },
  {
   "cell_type": "code",
   "execution_count": null,
   "metadata": {
    "collapsed": true
   },
   "outputs": [],
   "source": []
  }
 ],
 "metadata": {
  "kernelspec": {
   "display_name": "Python 2",
   "language": "python",
   "name": "python2"
  },
  "language_info": {
   "codemirror_mode": {
    "name": "ipython",
    "version": 2
   },
   "file_extension": ".py",
   "mimetype": "text/x-python",
   "name": "python",
   "nbconvert_exporter": "python",
   "pygments_lexer": "ipython2",
   "version": "2.7.11"
  }
 },
 "nbformat": 4,
 "nbformat_minor": 0
}
